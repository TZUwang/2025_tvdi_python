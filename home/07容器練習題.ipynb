{
 "cells": [
  {
   "cell_type": "markdown",
   "id": "9849b565",
   "metadata": {},
   "source": [
    "<sub>1.輸入數個整數並儲存至串列中，直到輸入-9999結束，再將此串列轉換成元組 ，最後顯示該元組 以及長度、最大值、最小值、總和"
   ]
  },
  {
   "cell_type": "code",
   "execution_count": null,
   "id": "106597ed",
   "metadata": {},
   "outputs": [
    {
     "name": "stdout",
     "output_type": "stream",
     "text": [
      "你輸入的數字為(5, 78, 87, 99, 66)\n",
      "您輸入的數字長度為5\n",
      "您輸入的數字最大值為99\n",
      "您輸入的數字最小值為5\n",
      "您輸入的數字總和為335\n"
     ]
    }
   ],
   "source": [
    "a = []\n",
    "numbers = int(input('請輸入數字(輸入-9999結束): '))\n",
    "while numbers != -9999:\n",
    "    a.append(numbers)\n",
    "    numbers = int(input('請輸入數字(輸入-9999結束): '))\n",
    "a = tuple(a)\n",
    "print(f'你輸入的數字為{a}\\n您輸入的數字長度為{len(a)}\\n您輸入的數字最大值為{max(a)}\\n您輸入的數字最小值為{min(a)}\\n您輸入的數字總和為{sum(a)}')"
   ]
  },
  {
   "cell_type": "markdown",
   "id": "92e04e29",
   "metadata": {},
   "source": [
    "<sub>2.輸入數個整數並建立兩個元組 ，輸入-9999結束，將此兩元組 合併並從小到大排序，顯示排序前的元組 和排序後的串列"
   ]
  },
  {
   "cell_type": "code",
   "execution_count": null,
   "id": "a4d69524",
   "metadata": {},
   "outputs": [
    {
     "name": "stdout",
     "output_type": "stream",
     "text": [
      "排序前的元組： (1, 3, 5, 7, 9, 2, 4, 6, 8, 10)\n",
      "排序後的串列： [1, 2, 3, 4, 5, 6, 7, 8, 9, 10]\n"
     ]
    }
   ],
   "source": [
    "a = ()\n",
    "b = ()\n",
    "numbers_a = int(input('請輸入第一個元組中的數字(輸入-9999結束): '))\n",
    "while numbers_a != -9999:\n",
    "    a += (numbers_a,)\n",
    "    numbers_a = int(input('請輸入第一個元組中的數字(輸入-9999結束): '))\n",
    "\n",
    "numbers_b = int(input('輸入第二個元組中的數字(輸入-9999結束): '))\n",
    "while numbers_b != -9999:\n",
    "    b += (numbers_b,)\n",
    "    numbers_b = int(input('輸入第二個元組中的數字(輸入-9999結束): '))\n",
    "\n",
    "new_tuple = a + b\n",
    "sorted_tuple = sorted(new_tuple)\n",
    "print('排序前的元組：', new_tuple)\n",
    "print('排序後的串列：', sorted_tuple)"
   ]
  },
  {
   "cell_type": "markdown",
   "id": "2c4cd69a",
   "metadata": {},
   "source": [
    "<sub>3.輸入至少五個字串至元組 ，直到輸入’end’結束，接著輸出這個元組 ，再分別顯示元組 的第一個元素到第三個元素，和倒數第三個元素"
   ]
  },
  {
   "cell_type": "code",
   "execution_count": 11,
   "id": "9291aac7",
   "metadata": {},
   "outputs": [
    {
     "name": "stdout",
     "output_type": "stream",
     "text": [
      "你輸入的元組是：('python', 'lalaland', '8787', '6969', '7414', 'wow', 'qaq', 'OUO')\n",
      "第一到三個元素是: ('python', 'lalaland', '8787')\n",
      "倒數第三個元素： wow\n"
     ]
    }
   ],
   "source": [
    "strs = []\n",
    "while True:\n",
    "    a = input(\"輸入字串（輸入'end'結束）：\")\n",
    "    if a == 'end':\n",
    "        if len(strs) >= 5:\n",
    "            break\n",
    "        else:\n",
    "            print(f\"至少需要輸入5個字串，請繼續輸入。\")\n",
    "    else:\n",
    "        strs.append(a)\n",
    "\n",
    "strs_tuple = tuple(strs)\n",
    "print(f\"你輸入的元組是：{strs_tuple}\")\n",
    "\n",
    "print(f'第一到三個元素是:',strs_tuple[:3])\n",
    "print(f'倒數第三個元素：',strs_tuple[-3])"
   ]
  },
  {
   "cell_type": "markdown",
   "id": "f35963c6",
   "metadata": {},
   "source": [
    "<sub>4.輸入數個整數儲存到集合，直到-9999結束，顯示這個集合的長度、最大值、最小值、總和"
   ]
  },
  {
   "cell_type": "code",
   "execution_count": 2,
   "id": "e488bd4b",
   "metadata": {},
   "outputs": [
    {
     "name": "stdout",
     "output_type": "stream",
     "text": [
      "集合是: {'66', '55', '74', '77', '85', '96', '88'}\n",
      "集合長度： 7\n",
      "集合最大值： 96\n",
      "集合最小值： 55\n",
      "集合總和： 541\n"
     ]
    }
   ],
   "source": [
    "sets = set()\n",
    "while True:\n",
    "    inputs = input(\"請輸入整數(輸入-9999結束)：\")\n",
    "    if inputs == '-9999':\n",
    "        break\n",
    "    sets.add(inputs)\n",
    "    \n",
    "print(\"集合是:\",sets)\n",
    "print(\"集合長度：\", len(sets))\n",
    "print(\"集合最大值：\", max(sets))\n",
    "print(\"集合最小值：\", min(sets))\n",
    "print(\"集合總和：\", sum(map(int, sets)))"
   ]
  },
  {
   "cell_type": "markdown",
   "id": "d94fa387",
   "metadata": {},
   "source": [
    "<sub>5.依序輸入五個、三個、九個整數，儲存到set1、set2、set3當中，查詢set2是否為set1的子集合?set3是否為set1的超集合"
   ]
  },
  {
   "cell_type": "code",
   "execution_count": 3,
   "id": "789de0c4",
   "metadata": {},
   "outputs": [
    {
     "name": "stdout",
     "output_type": "stream",
     "text": [
      "set2不是set1的子集合\n",
      "set3是set1的超集合\n"
     ]
    }
   ],
   "source": [
    "set1 = set()\n",
    "set2 = set()\n",
    "set3 = set()\n",
    "\n",
    "for i in range(5):\n",
    "    a = int(input(\"輸入5個整數: \"))\n",
    "    set1.add(a)\n",
    "\n",
    "for i in range(3):\n",
    "    b = int(input(\"輸入3個整數: \"))\n",
    "    set2.add(b)\n",
    "\n",
    "for i in range(9):\n",
    "    c = int(input(\"輸入9個整數: \"))\n",
    "    set3.add(c)\n",
    "\n",
    "if set2.issubset(set1):\n",
    "    print(\"set2是set1的子集合\")\n",
    "else:\n",
    "    print(\"set2不是set1的子集合\")\n",
    "\n",
    "if set3.issuperset(set1):\n",
    "    print(\"set3是set1的超集合\")\n",
    "else:\n",
    "    print(\"set3不是set1的超集合\")\n",
    "\n"
   ]
  },
  {
   "cell_type": "markdown",
   "id": "f2cad49d",
   "metadata": {},
   "source": [
    "<sub>6.課程分組，分為X與Y兩組，輸入X和Y兩組需要學習的科目到集合中，以字串”end”作為結束，請依序分行顯示  \n",
    "X組要學習: 國文、英文、數學乙、地理、歷史。 Y組要學習：國文、數學甲、英文、物理、化學  \n",
    "X組和Y組所有的科目  \n",
    "X組和Y組共同科目  \n",
    "Y組有但是X組沒有的科目  \n",
    "X有Y沒有以及Y有X沒有的科目  \n",
    " \n"
   ]
  },
  {
   "cell_type": "code",
   "execution_count": 5,
   "id": "02524035",
   "metadata": {},
   "outputs": [
    {
     "name": "stdout",
     "output_type": "stream",
     "text": [
      "X與Y的所有科目 {'歷史', '物理', '英文', '化學', '數學乙', '國文', '地理', '數學甲'} end\n",
      "\n",
      "X組和 Y組共同科目 {'國文', '英文'} end\n",
      "\n",
      "Y組有但是X組沒有的科目 {'物理', '化學', '數學甲'} end\n",
      "\n",
      "X有Y沒有以及Y有X沒有的科目 {'物理', '地理', '歷史', '化學', '數學乙', '數學甲'}\n"
     ]
    }
   ],
   "source": [
    "x = {'國文', '英文', '數學乙', '地理', '歷史'}\n",
    "y ={'國文', '數學甲', '英文', '物理', '化學'}\n",
    "\n",
    "print('X與Y的所有科目',x | y,'end\\n')\n",
    "print('X組和 Y組共同科目',x & y,'end\\n') \n",
    "print('Y組有但是X組沒有的科目',y - x,'end\\n')\n",
    "print('X有Y沒有以及Y有X沒有的科目',x ^ y)\n"
   ]
  },
  {
   "cell_type": "markdown",
   "id": "62b8f9f6",
   "metadata": {},
   "source": [
    "<sub>7.自行輸入兩個字典，以輸入值end作為結束，將這兩個字典合併，根據key值字母，由小到大排序輸出，如有重複key值，後輸入的key值覆蓋前面的key值"
   ]
  },
  {
   "cell_type": "code",
   "execution_count": 14,
   "id": "f5730a48",
   "metadata": {},
   "outputs": [
    {
     "name": "stdout",
     "output_type": "stream",
     "text": [
      "輸入第一個字典\n",
      "{'a': '1', 'b': '2', 'c': '3', 'd': '4', 'e': '5'}\n",
      "輸入第二個字典\n",
      "{'d': '100', 'e': '20', 'f': '300', 'g': '500'}\n",
      "a:1 b:2 c:3 d:100 e:20 f:300 g:500 "
     ]
    }
   ],
   "source": [
    "dic1 = {}\n",
    "dic2 = {}\n",
    "\n",
    "print(\"輸入第一個字典\")\n",
    "while True:\n",
    "    key = input(\"輸入key值（輸入'end'結束）：\")\n",
    "    if key == 'end':\n",
    "        break\n",
    "    value = input(\"輸入對應值：\")\n",
    "    dic1[key] = value\n",
    "print(dic1)\n",
    "\n",
    "print(\"輸入第二個字典\")\n",
    "while True:\n",
    "    key = input(\"輸入key值（輸入'end'結束）：\")\n",
    "    if key == 'end':\n",
    "        break\n",
    "    value = input(\"輸入對應值：\")\n",
    "    dic2[key] = value\n",
    "print(dic2)\n",
    "\n",
    "dic1.update(dic2)\n",
    "for key, value in sorted(dic1.items()):\n",
    "    print(f\"{key}:{value}\",end=' ')"
   ]
  },
  {
   "cell_type": "markdown",
   "id": "4a552aab",
   "metadata": {},
   "source": [
    "<sub>8.輸入顏色字典color_dict 內容，直到鍵值輸入end為止。再依據鍵值字母由小到大排序輸出"
   ]
  },
  {
   "cell_type": "code",
   "execution_count": 15,
   "id": "123222f1",
   "metadata": {},
   "outputs": [
    {
     "name": "stdout",
     "output_type": "stream",
     "text": [
      "a:白 d:紅 f:黃 k:黑 w:綠 "
     ]
    }
   ],
   "source": [
    "color_dict = {}\n",
    "\n",
    "while True:\n",
    "    key = input(\"輸入key值（輸入'end'結束）：\")\n",
    "    if key == 'end':\n",
    "        break\n",
    "    value = input(\"輸入對應顏色：\")\n",
    "    color_dict[key] = value\n",
    "for key, value in sorted(color_dict.items()):\n",
    "    print(f\"{key}:{value}\",end=' ')\n"
   ]
  },
  {
   "cell_type": "markdown",
   "id": "228040db",
   "metadata": {},
   "source": [
    "<sub>9.輸入資料到字典中，直到輸入鍵值為end結束，再輸入一個鍵值，進行搜尋這個鍵值是否存在字典中"
   ]
  },
  {
   "cell_type": "code",
   "execution_count": 16,
   "id": "4f7797b8",
   "metadata": {},
   "outputs": [
    {
     "name": "stdout",
     "output_type": "stream",
     "text": [
      "鍵值2對應的值為jjj\n"
     ]
    }
   ],
   "source": [
    "dic0 = {}\n",
    "\n",
    "while True:\n",
    "    key = input(\"輸入鍵值（輸入'end'結束）：\")\n",
    "    if key == 'end':\n",
    "        break\n",
    "    value = input(\"輸入對應值：\")\n",
    "    dic0[key] = value\n",
    "\n",
    "a = input(\"輸入要查詢的鍵值\")\n",
    "\n",
    "if a in dic0:\n",
    "    print(f\"鍵值{a}對應的值為{dic0[a]}\")\n",
    "else:\n",
    "    print(f\"鍵值{a}對應的值不存在\")"
   ]
  },
  {
   "cell_type": "markdown",
   "id": "9c748d51",
   "metadata": {},
   "source": [
    "<sub>10.輸入五筆資料放在 tuple10 的元組 ，之後印出元組 每一個元素，以及找出此元組 最大值、最小值、總和"
   ]
  },
  {
   "cell_type": "code",
   "execution_count": 21,
   "id": "8739ac99",
   "metadata": {},
   "outputs": [
    {
     "name": "stdout",
     "output_type": "stream",
     "text": [
      "55 66 88 22 44 \n",
      "最大值為 88\n",
      "最小值為 22\n",
      "總合為 275\n"
     ]
    }
   ],
   "source": [
    "tuple10 = ()\n",
    "while True:\n",
    "    inputs = int(input(\"輸入5筆資料:\"))\n",
    "    tuple10 += (inputs,)\n",
    "    if len(tuple10) == 5:\n",
    "        break\n",
    "for i in tuple10:\n",
    "    print(i,end=' ')\n",
    "\n",
    "print('\\n最大值為',max(tuple10))\n",
    "print('最小值為',min(tuple10))\n",
    "print('總合為',sum(tuple10))"
   ]
  }
 ],
 "metadata": {
  "kernelspec": {
   "display_name": "Python 3",
   "language": "python",
   "name": "python3"
  },
  "language_info": {
   "codemirror_mode": {
    "name": "ipython",
    "version": 3
   },
   "file_extension": ".py",
   "mimetype": "text/x-python",
   "name": "python",
   "nbconvert_exporter": "python",
   "pygments_lexer": "ipython3",
   "version": "3.13.7"
  }
 },
 "nbformat": 4,
 "nbformat_minor": 5
}
