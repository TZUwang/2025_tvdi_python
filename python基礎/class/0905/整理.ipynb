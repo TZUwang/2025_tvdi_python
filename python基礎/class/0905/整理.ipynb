{
 "cells": [
  {
   "cell_type": "markdown",
   "id": "fa895a74",
   "metadata": {},
   "source": [
    "| 函式 | 意義 |\n",
    "| :--- | :--- |\n",
    "| len() | 計算串列長度 |\n",
    "| sum() | 加總串列每一個元素 |\n",
    "| max() | 回傳串列最大值 |\n",
    "| min() | 回傳串列最小值 |"
   ]
  },
  {
   "cell_type": "markdown",
   "id": "9e9f57f5",
   "metadata": {},
   "source": [
    "串列運作方法\n",
    "| 方法 | 意義 |\n",
    "| :--- | :--- |\n",
    "| append(value) | 附加value於串列尾端 |\n",
    "| insert(index, value) | 在索引index處加入value |\n",
    "| pop() | 刪除串列最後一個元素 |\n",
    "| pop(index) | 刪除串列索引index所在的元素 |\n",
    "| remove(value) | 刪除串列中的value，若有多個相同value，只刪除第一個 |\n",
    "| count(value) | 串列中出現value的個數 |\n",
    "| index(value) | value所在串列第一個出現的索引值 |\n",
    "| sort() | 將串列元素由小至大排序 |\n",
    "| sort(reverse = True) | 將串列元素由大至小排序 |\n",
    "| reverse() | 將串列元素反轉 |"
   ]
  },
  {
   "cell_type": "markdown",
   "id": "314b7898",
   "metadata": {},
   "source": [
    "串列運作相關運算子  \n",
    "| 運算子 | 意義 |\n",
    "| :--- | :--- |\n",
    "| in | 檢視某一元素是否在串列中 |\n",
    "| not in | 檢視某一元素是否不在串列中 |\n",
    "| [index] | 印出串列index位置中某一元素 |\n",
    "| [start:end] | 印出串列中從start 到end-1的元素 |\n",
    "| *| 複製多次串列元素 |\n",
    "| + | 連結兩個串列元素 |\n"
   ]
  }
 ],
 "metadata": {
  "language_info": {
   "name": "python"
  }
 },
 "nbformat": 4,
 "nbformat_minor": 5
}
