{
 "cells": [
  {
   "cell_type": "markdown",
   "id": "d7cfb5fc",
   "metadata": {},
   "source": [
    "<sub>1.輸入兩個正整數，當作串列的 列數 與 行數 ，每個位置存放內容為那個位置本身的 \"行數索引值\" 減去 \"列數索引值\" 的結果。"
   ]
  },
  {
   "cell_type": "code",
   "execution_count": 1,
   "id": "75096f9c",
   "metadata": {},
   "outputs": [
    {
     "name": "stdout",
     "output_type": "stream",
     "text": [
      "[[0, 1, 2, 3], [-1, 0, 1, 2], [-2, -1, 0, 1], [-3, -2, -1, 0]]\n"
     ]
    }
   ],
   "source": [
    "a = int(input('請輸入列數:'))\n",
    "b = int(input('請輸入行數:'))\n",
    "list1 = []\n",
    "for i in range(a):\n",
    "    list2 = []\n",
    "    for j in range(b):\n",
    "        list2.append(j - i)\n",
    "    list1.append(list2)\n",
    "print(list1)"
   ]
  },
  {
   "cell_type": "markdown",
   "id": "4eeeecd4",
   "metadata": {},
   "source": [
    "<sub>2.輸入三位學生各五筆平時測驗成績，接著計算並輸出每位總分與平均"
   ]
  },
  {
   "cell_type": "code",
   "execution_count": 2,
   "id": "ff6da482",
   "metadata": {},
   "outputs": [
    {
     "name": "stdout",
     "output_type": "stream",
     "text": [
      "[[80, 50, 60, 70, 40], [55, 68, 97, 45, 66], [15, 89, 99, 78, 77]]\n",
      "第1位學生的總分為300，平均為60.00\n",
      "第2位學生的總分為331，平均為66.20\n",
      "第3位學生的總分為358，平均為71.60\n"
     ]
    }
   ],
   "source": [
    "stu = []\n",
    "for i in range(3):\n",
    "    stu.append([])\n",
    "    for j in range(5):\n",
    "        score = int(input(f'請輸入第{i+1}位學生的第{j+1}筆成績:'))\n",
    "        stu[i].append(score)\n",
    "print(stu)\n",
    "for i in range(3):\n",
    "    total = sum(stu[i])\n",
    "    avg = total / 5\n",
    "    print(f'第{i+1}位學生的總分為{total}，平均為{avg:.2f}')"
   ]
  },
  {
   "cell_type": "markdown",
   "id": "ee81d71e",
   "metadata": {},
   "source": [
    "<sub>3.建立一個3 * 3的串列矩陣，內容為鍵盤輸入的整數(不能重複)，接著輸出矩陣最大與最小值的索引。"
   ]
  },
  {
   "cell_type": "code",
   "execution_count": 3,
   "id": "36ba46b6",
   "metadata": {},
   "outputs": [
    {
     "name": "stdout",
     "output_type": "stream",
     "text": [
      "[[78, 101, 55], [61, 2, 9], [88, 99, 45]]\n",
      "0 1\n",
      "1 1\n"
     ]
    }
   ],
   "source": [
    "a= []\n",
    "for i in range(3):\n",
    "    a.append([]) #第一次迴圈 a 會變成 [[]]，第二次會變成 [[...], []]，以此類推\n",
    "    for j in range(3): #內層迴圈，同樣會從 j=0 執行到 j=2 (共 3 次)，代表每一列中的「行」\n",
    "        a[i].append(int(input(f'請輸入不重複的正整數:'))) # a[i] 代表目前正在處理的那一列，.append() 會將輸入的整數加到該列的最後面。\n",
    "print(a)\n",
    "max = a[0][0] #假設矩陣的第一個元素 a[0][0] 就是最大值，並將這個值存到變數 max 中\n",
    "min = a[0][0] #假設第一個元素 a[0][0] 是最小值，並將這個值存到變數 min 中\n",
    "for i in range(3):\n",
    "    for j in range(3):\n",
    "        if a[i][j] > max: #檢查目前的元素 a[i][j] 是否比我們紀錄的 max 還要大\n",
    "            max = a[i][j] # 如果是，就更新 max 的值為目前這個更大的元素。\n",
    "            max_i = i     # 同時，記錄下這個最大值所在的「列索引 i」和「行索引 j」。\n",
    "            max_j = j\n",
    "        if a[i][j] < min: #檢查目前的元素 a[i][j] 是否比我們紀錄的 min 還要小。\n",
    "            min = a[i][j] # 如果是，就更新 min 的值為目前這個更小的元素。\n",
    "            min_i = i     # 同時，記錄下這個最小值所在的「列索引 i」和「行索引 j」。\n",
    "            min_j = j\n",
    "print(max_i,max_j) #迴圈結束後，max_i 和 max_j 就會存著整個矩陣中最大值的索引。將它們印出來\n",
    "print(min_i,min_j) #同上"
   ]
  },
  {
   "cell_type": "markdown",
   "id": "58b7b362",
   "metadata": {},
   "source": [
    "<sub>4.讓使用者建立2個 2* 2的串列矩陣內容，內容為鍵盤輸入的整數，接著輸出這兩個矩陣內容及相加結果。"
   ]
  },
  {
   "cell_type": "code",
   "execution_count": null,
   "id": "5f051605",
   "metadata": {},
   "outputs": [
    {
     "name": "stdout",
     "output_type": "stream",
     "text": [
      "第一組矩陣為:\n",
      "[11, 22]\n",
      "[33, 44]\n",
      "第二組矩陣為:\n",
      "[10, 20]\n",
      "[30, 40]\n",
      "兩組矩陣相加結果為:\n",
      "[21, 42]\n",
      "[63, 84]\n"
     ]
    }
   ],
   "source": [
    "a1 = []\n",
    "for i in range(2):     #2x2 矩陣，所以重複 2 次\n",
    "    a2 = []            # 建立一個空串列 a2，用來存放目前這一列的元素。\n",
    "    for j in range(2): # 內層迴圈，用來建立矩陣的「行」\n",
    "        a2.append(int(input(f'請輸入第一組矩陣的整數:')))\n",
    "    a1.append(a2)      # 當內層迴圈跑完，就把這一列 (a2) 加到矩陣 (a1) 中。\n",
    "\n",
    "b1 = []\n",
    "for i in range(2):\n",
    "    b2 = []\n",
    "    for j in range(2):\n",
    "        b2.append(int(input(f'請輸入第二組矩陣的整數:')))\n",
    "    b1.append(b2)\n",
    "\n",
    "sum1 = [] #用來存放兩組矩陣相加後的結果\n",
    "for i in range(2):\n",
    "    sum2 = []\n",
    "    for j in range(2):\n",
    "        sum2.append(a1[i][j] + b1[i][j]) ## 將 a1 和 b1 矩陣在相同位置 (i, j) 的元素相加，然後將結果加到 sum2 串列中\n",
    "    sum1.append(sum2)\n",
    "\n",
    "print('第一組矩陣為:')\n",
    "for row in a1:\n",
    "    print(row)\n",
    "print('第二組矩陣為:')\n",
    "for row in b1:\n",
    "    print(row)\n",
    "print('兩組矩陣相加結果為:')\n",
    "for row in sum1:\n",
    "    print(row)"
   ]
  },
  {
   "cell_type": "markdown",
   "id": "ac3be549",
   "metadata": {},
   "source": [
    "<sub>5.使用者建立四週各三天溫度，接著計算並輸出這四週的平均溫度，及最高最低溫"
   ]
  },
  {
   "cell_type": "code",
   "execution_count": 13,
   "id": "b1782dbd",
   "metadata": {},
   "outputs": [
    {
     "name": "stdout",
     "output_type": "stream",
     "text": [
      "[19, 18, 22]\n",
      "[28, 21, 22]\n",
      "[17, 16, 14]\n",
      "[22, 19, 18]\n",
      "這四週的平均溫度為19.666666666666668\n",
      "這四週的最高溫度為28\n",
      "這四週的最低溫度為14\n"
     ]
    }
   ],
   "source": [
    "a = []\n",
    "Weeks = 4\n",
    "Days = 3\n",
    "for i in range(Weeks):\n",
    "    week = []\n",
    "    for j in range(Days):\n",
    "        temp = int(input(f'請輸入第{i+1}週第{j+1}天的溫度'))\n",
    "        week.append(temp)\n",
    "    a.append(week)\n",
    "\n",
    "for row in a:\n",
    "    print(row)\n",
    "\n",
    "sum = 0\n",
    "for row in a:\n",
    "    for temp in row:\n",
    "        sum += temp\n",
    "print(f'這四週的平均溫度為{sum/(Weeks * Days)}')\n",
    "\n",
    "max = a[0][0]\n",
    "min = a[0][0]\n",
    "for row in a:\n",
    "    for temp in row:\n",
    "        if temp > max:\n",
    "            max = temp\n",
    "        if temp < min:\n",
    "            min = temp\n",
    "print(f'這四週的最高溫度為{max}')\n",
    "print(f'這四週的最低溫度為{min}')"
   ]
  },
  {
   "cell_type": "markdown",
   "id": "257eb01c",
   "metadata": {},
   "source": [
    "<sub>6.主程式 main( ) 宣告一個名為 lst、大小為5的整數串列，傳給函式 output(aList)。output(aList)函式讓使用者輸入串列內容，傳回主程式輸出。主程式將串列傳給自定義的 min(aList)和max(aList)函式，各自計算最大值和最小值並傳回主程式輸出。"
   ]
  },
  {
   "cell_type": "code",
   "execution_count": null,
   "id": "ff1f8487",
   "metadata": {},
   "outputs": [
    {
     "name": "stdout",
     "output_type": "stream",
     "text": [
      "串列內容為:[11, 33, 44, 66, 77]\n",
      "最小值為:11\n",
      "最大值為:77\n"
     ]
    }
   ],
   "source": [
    "def output(aList):\n",
    "    a = []\n",
    "    for i in range(len(aList)):\n",
    "        a.append(int(input(f'請輸入串列內容:')))\n",
    "    return a\n",
    "\n",
    "def min(aList): #跟 python內建的函示名稱一樣的話會蓋掉原本的函式\n",
    "    min = aList[0]\n",
    "    for i in aList:\n",
    "        if i < min:\n",
    "            min = i\n",
    "    return min\n",
    "\n",
    "def max(aList):\n",
    "    max = aList[0]\n",
    "    for i in aList:\n",
    "        if i > max:\n",
    "            max = i\n",
    "    return max\n",
    "\n",
    "lst = [0] * 5\n",
    "lst = output(lst)\n",
    "print(f'串列內容為:{lst}')\n",
    "print(f'最小值為:{min(lst)}')\n",
    "print(f'最大值為:{max(lst)}')"
   ]
  },
  {
   "cell_type": "markdown",
   "id": "02091396",
   "metadata": {},
   "source": [
    "<sub>7.主程式 main()中，讓使用者輸入不重複的10個數字到串列，將串列傳遞給 compuet()函式，函式接收一個串列lst 和一個變數 a (預設值為3)，並傳回lst中a個最大數字，將結果回傳主程式 main()輸出"
   ]
  },
  {
   "cell_type": "code",
   "execution_count": null,
   "id": "e1ce1cf4",
   "metadata": {},
   "outputs": [
    {
     "name": "stdout",
     "output_type": "stream",
     "text": [
      "請輸入10個不重複的數字：\n",
      "你輸入的數字為[52, 78, 69, 87, 66, 99, 77, 88, 25, 33]\n",
      "\n",
      "您輸入的數字中，最大的3個是: [99, 88, 87]\n"
     ]
    }
   ],
   "source": [
    "def compute(lst,a=3):\n",
    "    lst = sorted(lst,reverse=True) #sorted()對傳入的 lst 進行小到大排序，並回傳一個新的排序好的串列 reverse=True則是大到小\n",
    "    return lst[:a] #回傳前a個元素\n",
    "\n",
    "def main():\n",
    "    numbers = []\n",
    "    print(\"請輸入10個不重複的數字：\")\n",
    "    while len(numbers) < 10:\n",
    "        num = int(input(f\"請輸入第 {len(numbers) + 1} 個數字: \"))\n",
    "        if num not in numbers: #當沒有出現過的數字就加入 有的話就會重新回圈重新輸入 防止出現重複數字\n",
    "            numbers.append(num)\n",
    "        else:\n",
    "            print(\"數字重複，請重新輸入。\")\n",
    "    print(f'你輸入的數字為{numbers}')\n",
    "\n",
    "    top_3_numbers = compute(numbers) # 呼叫 compute 函式並使用預設值 a=3\n",
    "    print(f\"\\n您輸入的數字中，最大的3個是: {top_3_numbers}\")\n",
    "\n",
    "main()"
   ]
  },
  {
   "cell_type": "markdown",
   "id": "66718243",
   "metadata": {},
   "source": [
    "<sub>8.使用lotto ()產生6個樂透號碼，並以main()函式呼叫5次lotto()函式產生五組號碼，並由小到大排序出來。"
   ]
  },
  {
   "cell_type": "code",
   "execution_count": 1,
   "id": "b7abcdf0",
   "metadata": {},
   "outputs": [
    {
     "name": "stdout",
     "output_type": "stream",
     "text": [
      "第1組樂透號碼: [7, 17, 20, 26, 31, 38]\n",
      "第2組樂透號碼: [3, 25, 30, 32, 45, 49]\n",
      "第3組樂透號碼: [10, 12, 17, 24, 30, 40]\n",
      "第4組樂透號碼: [8, 18, 23, 28, 35, 40]\n",
      "第5組樂透號碼: [3, 11, 15, 25, 27, 48]\n"
     ]
    }
   ],
   "source": [
    "import random\n",
    "def lotto():\n",
    "    numbers = random.sample(range(1, 50), 6)\n",
    "    return numbers\n",
    "\n",
    "def main():\n",
    "    for i in range(5):\n",
    "        numbers = lotto() #呼叫\n",
    "        numbers.sort() #小到大排序\n",
    "        print(f'第{i+1}組樂透號碼: {numbers}')\n",
    "\n",
    "main()"
   ]
  }
 ],
 "metadata": {
  "kernelspec": {
   "display_name": "Python 3",
   "language": "python",
   "name": "python3"
  },
  "language_info": {
   "codemirror_mode": {
    "name": "ipython",
    "version": 3
   },
   "file_extension": ".py",
   "mimetype": "text/x-python",
   "name": "python",
   "nbconvert_exporter": "python",
   "pygments_lexer": "ipython3",
   "version": "3.13.7"
  }
 },
 "nbformat": 4,
 "nbformat_minor": 5
}
