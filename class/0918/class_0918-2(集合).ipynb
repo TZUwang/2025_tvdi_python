{
 "cells": [
  {
   "cell_type": "markdown",
   "id": "c52cbd52",
   "metadata": {},
   "source": [
    "### 集合(set)\n",
    "<sub>集合的特點是集合內容當中 不會出現重複的元素"
   ]
  },
  {
   "cell_type": "markdown",
   "id": "14e0ffb6",
   "metadata": {},
   "source": [
    "<sub>集合以大括號建立，元素間以逗號區隔"
   ]
  },
  {
   "cell_type": "code",
   "execution_count": 6,
   "id": "3bfa9696",
   "metadata": {},
   "outputs": [
    {
     "name": "stdout",
     "output_type": "stream",
     "text": [
      "{1, 3, 5, 7, 9}\n",
      "{'Bob', 'Billy', 'Amy', 'Tim', 'Marry'}\n"
     ]
    }
   ],
   "source": [
    "set0 = {1, 3, 5, 7, 9}\n",
    "print(set0)\n",
    "set1 = {'Tim', 'Marry', 'Bob', 'Billy', 'Amy'}\n",
    "print(set1)"
   ]
  },
  {
   "cell_type": "markdown",
   "id": "7efa5612",
   "metadata": {},
   "source": [
    "<sub>空集合不能直接使用空的大括號 而是使用小括號 注意小括號前面加上set否則會被當成tuple"
   ]
  },
  {
   "cell_type": "code",
   "execution_count": 7,
   "id": "2a61328f",
   "metadata": {},
   "outputs": [
    {
     "name": "stdout",
     "output_type": "stream",
     "text": [
      "set()\n"
     ]
    }
   ],
   "source": [
    "set2 = set() \n",
    "print(set2)"
   ]
  },
  {
   "cell_type": "markdown",
   "id": "5a9a7520",
   "metadata": {},
   "source": [
    "<sub>透過串列或是元組 建立資料"
   ]
  },
  {
   "cell_type": "code",
   "execution_count": 8,
   "id": "04d3cba5",
   "metadata": {},
   "outputs": [
    {
     "name": "stdout",
     "output_type": "stream",
     "text": [
      "{1, 2, 3, 4, 5}\n"
     ]
    }
   ],
   "source": [
    "set3 = set([i for i in range(1,6)])\n",
    "print(set3)"
   ]
  },
  {
   "cell_type": "code",
   "execution_count": 10,
   "id": "38741b8e",
   "metadata": {},
   "outputs": [
    {
     "name": "stdout",
     "output_type": "stream",
     "text": [
      "{1, 2, 3, 4, 5}\n"
     ]
    }
   ],
   "source": [
    "list = [1, 2, 3, 4, 5]\n",
    "set3 = set(list)\n",
    "print(set3)"
   ]
  },
  {
   "cell_type": "code",
   "execution_count": 11,
   "id": "1fdfd0d8",
   "metadata": {},
   "outputs": [
    {
     "name": "stdout",
     "output_type": "stream",
     "text": [
      "{1, 2, 3, 4, 5}\n"
     ]
    }
   ],
   "source": [
    "set4 = set((1, 2, 3, 4, 5))\n",
    "print(set4)"
   ]
  },
  {
   "cell_type": "code",
   "execution_count": 12,
   "id": "a0e1c897",
   "metadata": {},
   "outputs": [
    {
     "name": "stdout",
     "output_type": "stream",
     "text": [
      "{1, 2, 3, 4, 5, 9}\n"
     ]
    }
   ],
   "source": [
    "tuple1 = (2, 4, 1, 3, 9, 5)\n",
    "set4 = set(tuple1)\n",
    "print(set4)"
   ]
  },
  {
   "cell_type": "markdown",
   "id": "fa86e56c",
   "metadata": {},
   "source": [
    "<sub>集合不會出現重複資料"
   ]
  },
  {
   "cell_type": "code",
   "execution_count": 13,
   "id": "d7bb4ce4",
   "metadata": {},
   "outputs": [
    {
     "name": "stdout",
     "output_type": "stream",
     "text": [
      "{1, 2, 3}\n"
     ]
    }
   ],
   "source": [
    "set5 = set((1, 1, 2, 2, 3)) \n",
    "print(set5)"
   ]
  },
  {
   "cell_type": "markdown",
   "id": "b0602fd6",
   "metadata": {},
   "source": [
    "<sub>存入集合資料再放回元組"
   ]
  },
  {
   "cell_type": "code",
   "execution_count": 15,
   "id": "0db11f3b",
   "metadata": {},
   "outputs": [
    {
     "name": "stdout",
     "output_type": "stream",
     "text": [
      "(1, 2, 3, 4, 5)\n"
     ]
    }
   ],
   "source": [
    "tuple2 = (1, 1, 2, 2, 3, 3, 4, 5)\n",
    "set5 = set(tuple2)\n",
    "tuple2 = tuple(set5)  #將集合放入元組\n",
    "print(tuple2)"
   ]
  },
  {
   "cell_type": "code",
   "execution_count": 18,
   "id": "2c81e4f7",
   "metadata": {},
   "outputs": [
    {
     "name": "stdout",
     "output_type": "stream",
     "text": [
      "('p', 'y', 't', 'h', 'o', 'n')\n",
      "{'h', 'y', 'p', 'n', 'o', 't'}\n"
     ]
    }
   ],
   "source": [
    "tuple4 = tuple('python')\n",
    "print(tuple4)\n",
    "set6 = set(tuple4)\n",
    "print(set6)"
   ]
  },
  {
   "cell_type": "markdown",
   "id": "c5ca13c4",
   "metadata": {},
   "source": [
    "<sub>集合加入及刪除  \n",
    "<sub>使用add(x)將x加入集合中，使用remove(x)將x從集合中刪除"
   ]
  },
  {
   "cell_type": "code",
   "execution_count": 25,
   "id": "955e08ff",
   "metadata": {},
   "outputs": [
    {
     "name": "stdout",
     "output_type": "stream",
     "text": [
      "{1, 3, 6, 8, 10, 30}\n",
      "{1, 6, 8, 10, 30}\n"
     ]
    }
   ],
   "source": [
    "set7 = {1, 3, 6, 8, 10}\n",
    "set7.add(30)\n",
    "print(set7)\n",
    "\n",
    "set7.remove(3)\n",
    "print(set7)"
   ]
  },
  {
   "cell_type": "markdown",
   "id": "288b81e5",
   "metadata": {},
   "source": [
    "<sub>計算長度的len()、計算總和的sum()、以及求出最大和最小值的max()與min()"
   ]
  },
  {
   "cell_type": "code",
   "execution_count": 26,
   "id": "3f53fe13",
   "metadata": {},
   "outputs": [
    {
     "name": "stdout",
     "output_type": "stream",
     "text": [
      "7\n"
     ]
    }
   ],
   "source": [
    "set8 = {1, 3, 6, 9, 10, 12, 15}\n",
    "a = len(set8)\n",
    "print(a)"
   ]
  },
  {
   "cell_type": "code",
   "execution_count": 27,
   "id": "a1f1453b",
   "metadata": {},
   "outputs": [
    {
     "name": "stdout",
     "output_type": "stream",
     "text": [
      "56\n"
     ]
    }
   ],
   "source": [
    "a = sum(set8)\n",
    "print(a)"
   ]
  },
  {
   "cell_type": "code",
   "execution_count": 28,
   "id": "bfc7107f",
   "metadata": {},
   "outputs": [
    {
     "name": "stdout",
     "output_type": "stream",
     "text": [
      "15\n"
     ]
    }
   ],
   "source": [
    "a = max(set8)\n",
    "print(a)"
   ]
  },
  {
   "cell_type": "code",
   "execution_count": 29,
   "id": "e607158e",
   "metadata": {},
   "outputs": [
    {
     "name": "stdout",
     "output_type": "stream",
     "text": [
      "1\n"
     ]
    }
   ],
   "source": [
    "a = min(set8)\n",
    "print(a)"
   ]
  },
  {
   "cell_type": "markdown",
   "id": "28d8aac1",
   "metadata": {},
   "source": [
    "<sub>in 與 not in 檢視元素是否在集合中"
   ]
  },
  {
   "cell_type": "code",
   "execution_count": 1,
   "id": "577bc6d7",
   "metadata": {},
   "outputs": [
    {
     "name": "stdout",
     "output_type": "stream",
     "text": [
      "False\n",
      "True\n",
      "True\n"
     ]
    }
   ],
   "source": [
    "set9 = {3, 5, 9, 20, 50, 55, 88, 100}\n",
    "a = 4 in set9\n",
    "print(a)\n",
    "\n",
    "a = 20 in set9\n",
    "print(a)\n",
    "\n",
    "a = 57 not in set9\n",
    "print(a)"
   ]
  },
  {
   "cell_type": "markdown",
   "id": "fc3f4682",
   "metadata": {},
   "source": [
    "<sub>使用for迴圈印出集合中所有元素"
   ]
  },
  {
   "cell_type": "code",
   "execution_count": 6,
   "id": "01084a01",
   "metadata": {},
   "outputs": [
    {
     "name": "stdout",
     "output_type": "stream",
     "text": [
      "{1, 2, 3, 4, 5}\n",
      "1 2 3 4 5 "
     ]
    }
   ],
   "source": [
    "numbers = {1, 2, 3, 3, 4, 4, 5}\n",
    "print(numbers)\n",
    "for i in numbers:\n",
    "    print(i, end=' ')\n",
    "\n",
    "# print(numbers[3]) 無法操作 沒有順序性就沒有索引值可以查詢"
   ]
  },
  {
   "cell_type": "markdown",
   "id": "29fd93a5",
   "metadata": {},
   "source": [
    "##### 集合特點整理  \n",
    "<sub>1.空集合 set()  \n",
    "2.無重複性資料  \n",
    "3.轉移資料沒有順序性  \n",
    "4.因為沒有順序性 所以沒有索引資料"
   ]
  },
  {
   "cell_type": "markdown",
   "id": "29e86ade",
   "metadata": {},
   "source": [
    "<sub>集合聯集、交集、差集、對稱差集  \n",
    "<sub>常見使用聯集(union)、交集(intersection)、差集(difference)、對稱差集(symmetric difference)四種"
   ]
  },
  {
   "cell_type": "code",
   "execution_count": 11,
   "id": "3778bba5",
   "metadata": {},
   "outputs": [
    {
     "name": "stdout",
     "output_type": "stream",
     "text": [
      "集合A與集合B的交集 {9, 5, 7}\n",
      "集合A與集合B的聯集 {1, 3, 5, 6, 7, 8, 9}\n",
      "集合A的差集 {1, 3}\n",
      "集合B的差集 {8, 6}\n",
      "集合A與集合B的對稱差集 {1, 3, 6, 8}\n"
     ]
    }
   ],
   "source": [
    "setA = {1, 3, 5, 7, 9}\n",
    "setB = {5, 6, 7, 8, 9}\n",
    "\n",
    "print('集合A與集合B的交集',setA & setB) #交集 保留A、B兩集和共有內容\n",
    "print('集合A與集合B的聯集',setA | setB) #聯集 將A集合與B集合內容集合起來 扣除掉重複項目\n",
    "print('集合A的差集',setA - setB) #差集有分先後順序 將A、B集合共有有部分去除 剩餘A的元素\n",
    "print('集合B的差集',setB - setA) #將A、B集合共有有部分去除，剩餘B的元素\n",
    "print('集合A與集合B的對稱差集',setA ^ setB) #對稱差集 將A、B集合共有有部分去除 剩餘A與B的元素"
   ]
  },
  {
   "cell_type": "markdown",
   "id": "5ecaef07",
   "metadata": {},
   "source": [
    "<sub>子集合 (Subset) 超集合 (Superset) 與 集合內容 (Set Content) 比較  \n",
    "<sub>子集合:如果 A 中的所有元素都包含在 B 中 那麼集合 A 是集合 B 的子集合  \n",
    "超集合:如果 A 中的所有元素都包含在 B 中 並且 B 中可能還有額外的元素 集合 B 是集合 A 的超集合  \n",
    "集合內容:集合中的所有元素的集合"
   ]
  },
  {
   "cell_type": "code",
   "execution_count": null,
   "id": "71cb4d8d",
   "metadata": {},
   "outputs": [
    {
     "name": "stdout",
     "output_type": "stream",
     "text": [
      "True\n",
      "True\n",
      "setA是否與setC相等? True\n",
      "setA是否與setC不相等? False\n"
     ]
    }
   ],
   "source": [
    "setA = {1, 3, 5, 7, 9}\n",
    "setB = {3, 5}\n",
    "\n",
    "a = setB.issubset(setA) #setB是不是setA的子集合\n",
    "print(a)\n",
    "b = setA.issuperset(setB) #setA是不是setB的超集合\n",
    "print(b)\n",
    "\n"
   ]
  },
  {
   "cell_type": "markdown",
   "id": "f9fe5cb8",
   "metadata": {},
   "source": [
    "<sub>集合可以利用 == 、 != 進行兩者間內容是否相等"
   ]
  },
  {
   "cell_type": "code",
   "execution_count": 18,
   "id": "c56d6cad",
   "metadata": {},
   "outputs": [
    {
     "name": "stdout",
     "output_type": "stream",
     "text": [
      "setA是否與setC相等? True\n",
      "setA是否與setC不相等? False\n",
      "setB是否與setC相等? False\n"
     ]
    }
   ],
   "source": [
    "setA = {1, 3, 5, 7, 9}\n",
    "setB = {3, 5}\n",
    "setC = {7, 5, 3, 9, 1}\n",
    "\n",
    "c = setA == setC\n",
    "print('setA是否與setC相等?',c)\n",
    "\n",
    "d = setA != setC\n",
    "print('setA是否與setC不相等?',d)\n",
    "\n",
    "e = setB == setC\n",
    "print('setB是否與setC相等?',e)"
   ]
  }
 ],
 "metadata": {
  "kernelspec": {
   "display_name": "Python 3",
   "language": "python",
   "name": "python3"
  },
  "language_info": {
   "codemirror_mode": {
    "name": "ipython",
    "version": 3
   },
   "file_extension": ".py",
   "mimetype": "text/x-python",
   "name": "python",
   "nbconvert_exporter": "python",
   "pygments_lexer": "ipython3",
   "version": "3.13.7"
  }
 },
 "nbformat": 4,
 "nbformat_minor": 5
}
