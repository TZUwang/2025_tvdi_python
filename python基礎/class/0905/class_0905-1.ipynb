{
 "cells": [
  {
   "cell_type": "markdown",
   "id": "177a358e",
   "metadata": {},
   "source": [
    "1.串列的建立"
   ]
  },
  {
   "cell_type": "code",
   "execution_count": 2,
   "id": "83742b80",
   "metadata": {},
   "outputs": [
    {
     "name": "stdout",
     "output_type": "stream",
     "text": [
      "[]\n",
      "[1, 3, 5, 7, 9, 11]\n",
      "['apple', 'orange', 'banana']\n",
      "[1, 2, 69, 7414, 'word']\n",
      "['elephant', 'banana', 'computer']\n",
      "[0, 1, 2, 3, 4, 5, 6, 7, 8, 9]\n",
      "[8, 8, 8, 8, 8, 8, 8, 8, 8, 8]\n",
      "['人', '牛', '貓', '鬼']\n",
      "人\n"
     ]
    }
   ],
   "source": [
    "list1 = []  #建立一個空串列\n",
    "list2 = [1 ,3 ,5 ,7 ,9 ,11] #建立串列並賦予數值資料\n",
    "list3 = ['apple','orange','banana'] #建立串列並賦予字串資料\n",
    "list4 = [1,2,69,7414,'word'] #建立串列賦予不同型別資料\n",
    "list5 = list(('elephant','banana','computer')) #使用list指令將元組創建為串列\n",
    "list6 = [x for x in range(10)] # 創建0-9連續數字 存放到第一個x中 形成串列\n",
    "list7 = [8]*10  #創建 10個 0的串列\n",
    "words = [\"人\",\"牛\",\"貓\",\"鬼\"] #也可以是中文字串\n",
    "print(list1)\n",
    "print(list2)        #印出list2的所有內容\n",
    "print(list3)\n",
    "print(list4)\n",
    "print(list5)\n",
    "print(list6)\n",
    "print(list7)\n",
    "print(words)\n",
    "print(words[0])    #印出words串列的第一個元素"
   ]
  },
  {
   "cell_type": "markdown",
   "id": "0834ee54",
   "metadata": {},
   "source": [
    "2.串列的運作"
   ]
  },
  {
   "cell_type": "code",
   "execution_count": 1,
   "id": "a870bf0d",
   "metadata": {},
   "outputs": [
    {
     "name": "stdout",
     "output_type": "stream",
     "text": [
      "7\n",
      "[3, 5]\n",
      "[1, 3, 5, 7, 9]\n",
      "[1, 3, 5, 7]\n",
      "[7, 9, 11]\n",
      "11\n",
      "[1, 3, 5, 7, 9]\n",
      "[7, 9, 11]\n"
     ]
    }
   ],
   "source": [
    "list2 = [1 ,3 ,5 ,7 ,9 ,11]\n",
    "\n",
    "print(list2[3])     #印出索引值(index) 3 的串列項目\n",
    "print(list2[1:3])   #印出索引值 1~(3-1) 的串列項目\n",
    "print(list2[0:5])   #印出索引值 0~4 的串列項目\n",
    "print(list2[:4])    #印出索引值 3之前 的串列項目\n",
    "print(list2[3:])    #印出索引值 3之後 的串列項目\n",
    "print(list2[-1])    #印出索引值 由後往前算第一位的串列項目\n",
    "print(list2[:-1])   #印出索引值 由後往前算所有的項目(注意不含-1)\n",
    "print(list2[-3:])   #印出索引值 由後往前算第三位之後的串列項目"
   ]
  },
  {
   "cell_type": "markdown",
   "id": "e9d014b1",
   "metadata": {},
   "source": [
    "3.len()：計算串列長度"
   ]
  },
  {
   "cell_type": "code",
   "execution_count": 3,
   "id": "13aeb74f",
   "metadata": {},
   "outputs": [
    {
     "name": "stdout",
     "output_type": "stream",
     "text": [
      "6\n",
      "3\n"
     ]
    }
   ],
   "source": [
    "list2 = [1 ,3 ,5 ,7 ,9 ,11] \n",
    "list3 = ['apple','orange','banana'] \n",
    "\n",
    "x = len(list2)  #計算list2串列的長度\n",
    "print(x)\n",
    "print(len(list3)) #計算list3串列的長度並印出"
   ]
  },
  {
   "cell_type": "markdown",
   "id": "8f990f71",
   "metadata": {},
   "source": [
    "1. 2. 3. 的綜合運用"
   ]
  },
  {
   "cell_type": "code",
   "execution_count": 4,
   "id": "ecb79202",
   "metadata": {},
   "outputs": [
    {
     "name": "stdout",
     "output_type": "stream",
     "text": [
      "['A', '1', '2', '2', '4', '5', '6', '7', '8', '9']\n",
      "A\n",
      "['1', '2', '2', '4', '5', '6', '7', '8', '9']\n",
      "10\n",
      "A122456789"
     ]
    }
   ],
   "source": [
    "id = \"A122456789\" #建立一個字串變數\n",
    "id = list(id)  #將字串轉換成串列\n",
    "print(id)\n",
    "print(id[0])    #印出身分證字號的第一個字母\n",
    "print(id[1:10]) #印出身分證字號的數字部分\n",
    "print(len(id))  #印出身分證字號的長度\n",
    "for i in range(len(id)):  #利用for迴圈印出身分證字號的每一個字元 因為len(id)會回傳10 所以i會從0跑到9\n",
    "    print(id[i], end = \"\") #end = \" \" 讓print印出後不換行而是空一格"
   ]
  },
  {
   "cell_type": "markdown",
   "id": "153027e6",
   "metadata": {},
   "source": [
    "4.sum 、 max 以及 min 函式"
   ]
  },
  {
   "cell_type": "code",
   "execution_count": 5,
   "id": "8b7ed9b7",
   "metadata": {},
   "outputs": [
    {
     "name": "stdout",
     "output_type": "stream",
     "text": [
      "[1, 2, 3, 4, 5, 6, 7, 8, 9, 10]\n",
      "此list的總和為55 \n",
      "最大值為10 \n",
      "最小值為1\n"
     ]
    }
   ],
   "source": [
    "list8 = [i for i in range(1,11)] #建立一個1~10的串列\n",
    "print(list8)\n",
    "a = sum(list8)  #計算list8串列的總和\n",
    "b = max(list8)  #找出list8串列的最大值\n",
    "c = min(list8)  #找出list8串列的最小值\n",
    "print(f'此list的總和為{a} \\n最大值為{b} \\n最小值為{c}')"
   ]
  },
  {
   "cell_type": "markdown",
   "id": "fafc07de",
   "metadata": {},
   "source": [
    "5. append()與 insert()"
   ]
  },
  {
   "cell_type": "code",
   "execution_count": 7,
   "id": "312ba7d0",
   "metadata": {},
   "outputs": [
    {
     "name": "stdout",
     "output_type": "stream",
     "text": [
      "[]\n",
      "['DOG']\n",
      "['DOG', 'CAT']\n",
      "['DOG', 'PIG', 'CAT']\n",
      "['DOG', 'PIG', 'CAT', 'COW']\n",
      "[1, 3, 5, 7, 9, 11]\n",
      "[1, 3, 5, 7, 9, 11, 7414]\n",
      "[1, 3, '痾痾痾', 5, 7, 9, 11, 7414]\n"
     ]
    }
   ],
   "source": [
    "list1 = []\n",
    "list2 = [1 ,3 ,5 ,7 ,9 ,11]\n",
    "\n",
    "#使用 append(value)的方法，將內容增加到串列尾端，利用insert (index,value)將內容插入串列的索引值位置\n",
    "print(list1)\n",
    "list1.append('DOG')  #在list1串列的尾端增加dog字串\n",
    "print(list1)\n",
    "list1.append('CAT')  #在list1串列的尾端增加cat字串\n",
    "print(list1)\n",
    "list1.insert(1,'PIG') #在list1串列的索引值1的位置插入pig字串\n",
    "print(list1)\n",
    "list1.insert(5,'COW') #在list1串列的索引值5的位置插入cow字串 若索引值5超出範圍 則會自動增加到串列的尾端\n",
    "print(list1)\n",
    "\n",
    "print(list2)\n",
    "list2.append(int(input(\"請輸入一個數字:\"))) #在list2串列的尾端增加使用者輸入的數字\n",
    "print(list2)\n",
    "a = int(input(\"請輸入一個數值:\")) #請使用者輸入一個數字\n",
    "b = input(\"請輸入內容:\") #請使用者輸入一個字串\n",
    "list2.insert(a,b) #在list2串列的索引值a的位置插入使用者輸入的字串b\n",
    "print(list2)"
   ]
  },
  {
   "cell_type": "markdown",
   "id": "c542ad12",
   "metadata": {},
   "source": [
    "練習  \n",
    "<sub>用迴圈存入1-10在list1中 並印出結果"
   ]
  },
  {
   "cell_type": "code",
   "execution_count": 8,
   "id": "e923040d",
   "metadata": {},
   "outputs": [
    {
     "name": "stdout",
     "output_type": "stream",
     "text": [
      "[]\n",
      "[1, 2, 3, 4, 5, 6, 7, 8, 9, 10]\n"
     ]
    }
   ],
   "source": [
    "list1 = []\n",
    "\n",
    "print(list1)\n",
    "list1 = [i for i in range(1 ,11)]\n",
    "print(list1)"
   ]
  },
  {
   "cell_type": "markdown",
   "id": "36712456",
   "metadata": {},
   "source": [
    "<sub>在list2中 輸入兩個值 一個是串列索引值 第二個是插入的內容 插入索引值的位置"
   ]
  },
  {
   "cell_type": "code",
   "execution_count": 10,
   "id": "aff94d96",
   "metadata": {},
   "outputs": [
    {
     "name": "stdout",
     "output_type": "stream",
     "text": [
      "[1, 3, 5, 7, 9, 11]\n",
      "[1, 3, '你是誰', 5, 7, 9, 11]\n"
     ]
    }
   ],
   "source": [
    "list2 = [1 ,3 ,5 ,7 ,9 ,11]\n",
    "\n",
    "print(list2)\n",
    "a = int(input(\"請輸入串列索引值:\"))\n",
    "b = input(\"請輸入插入內容:\")\n",
    "list2.insert(a ,b)\n",
    "print(list2)"
   ]
  },
  {
   "cell_type": "markdown",
   "id": "be0ac3bf",
   "metadata": {},
   "source": [
    "<sub>多筆輸入&手動輸入"
   ]
  },
  {
   "cell_type": "code",
   "execution_count": 12,
   "id": "c0c14d66",
   "metadata": {},
   "outputs": [
    {
     "name": "stdout",
     "output_type": "stream",
     "text": [
      "[]\n",
      "[1, 2, 2, 3, 5]\n",
      "[69, 87, 7414, 8769, 5278]\n"
     ]
    }
   ],
   "source": [
    "list1 = []\n",
    "\n",
    "print(list1)\n",
    "list1 = [int(input(\"請輸入一個數字:\")) for i in range(5)] #讓使用者手動輸入5個數執行成串列\n",
    "print(list1)\n",
    "#另一個方法\n",
    "\n",
    "list1 = []\n",
    "for i in range(5):\n",
    "    list1.append(int(input(\"請輸入一個數字:\")))\n",
    "print(list1)"
   ]
  },
  {
   "cell_type": "markdown",
   "id": "bf0d44fc",
   "metadata": {},
   "source": [
    "6. pop()與remove()"
   ]
  },
  {
   "cell_type": "code",
   "execution_count": 13,
   "id": "adbef828",
   "metadata": {},
   "outputs": [
    {
     "name": "stdout",
     "output_type": "stream",
     "text": [
      "[1, 3, 5, 7, 9]\n",
      "[1, 5, 7, 9]\n"
     ]
    }
   ],
   "source": [
    "#pop()可用來刪除串列最後一個數，pop(index)可用來刪除index指定的索引位置資料\n",
    "list2 = [1 ,3 ,5 ,7 ,9 ,11]\n",
    "list2.pop() #刪除最後一筆資料\n",
    "print(list2)\n",
    "list2.pop(1) #刪除索引值為1的資料\n",
    "print(list2)"
   ]
  },
  {
   "cell_type": "code",
   "execution_count": 14,
   "id": "604e6a9d",
   "metadata": {},
   "outputs": [
    {
     "name": "stdout",
     "output_type": "stream",
     "text": [
      "[1, 3, 7, 9, 11]\n"
     ]
    }
   ],
   "source": [
    "#remove(value)刪除串列中，內容為value所指定的資料\n",
    "list2 = [1 ,3 ,5 ,7 ,9 ,11]\n",
    "list2.remove(5) #將第一筆符合內容為5的資料刪除\n",
    "print(list2)"
   ]
  },
  {
   "cell_type": "markdown",
   "id": "f3eb8690",
   "metadata": {},
   "source": [
    "7.count() 與 index()"
   ]
  },
  {
   "cell_type": "code",
   "execution_count": 26,
   "id": "98cc7597",
   "metadata": {},
   "outputs": [
    {
     "name": "stdout",
     "output_type": "stream",
     "text": [
      "3\n",
      "['apple', 'kiwi', 'grape', 'banana', 'avocado', 'apple', 'banana', 'apple', 'pineapple', 'grape']\n"
     ]
    }
   ],
   "source": [
    "#count()計算同樣的元素在串列中出現了幾次\n",
    "list3 = ['apple' ,'grape' ,'banana' ,'avocado' ,'apple' ,'banana' ,'apple' ,'pineapple' ,'grape']\n",
    "a = list3.count('apple') #計算apple在list3串列中出現的次數\n",
    "print(a)\n",
    "\n",
    "list3.insert(1 ,'kiwi') #在索引值1的位置插入kiwi\n",
    "print(list3)"
   ]
  },
  {
   "cell_type": "code",
   "execution_count": 28,
   "id": "cc5b08e4",
   "metadata": {},
   "outputs": [
    {
     "name": "stdout",
     "output_type": "stream",
     "text": [
      "2\n",
      "第一個grape在串列中索引值為1的位置\n",
      "['apple', 'grape', 'banana', 'avocado', 'apple', 'banana', 'apple', 'pineapple', 'grape', 'watermelon', 'peach', 'cherry', 'apple', 'watermelon']\n",
      "apple在list3串列中出現了4次 ,watermelon第一次出現的位置在索引值9的位置\n"
     ]
    }
   ],
   "source": [
    "list3 = ['apple' ,'grape' ,'banana' ,'avocado' ,'apple' ,'banana' ,'apple' ,'pineapple' ,'grape']\n",
    "list5 = ['watermelon' ,'peach' ,'cherry' ,'apple' ,'watermelon']\n",
    "\n",
    "#index()立刻回傳串列中，第一個符合value的索引值位置\n",
    "print(list3.index('banana')) #印出串列中第一個banana的索引值\n",
    "print(f'第一個grape在串列中索引值為{list3.index('grape')}的位置')\n",
    "\n",
    "list3.extend(list5) #使用extend()方法將list5串列的內容加入到list3串列的尾端 list3 += list5 也可以達到相同效果\n",
    "print(list3)\n",
    "print(f'apple在list3串列中出現了{list3.count(\"apple\")}次 ,watermelon第一次出現的位置在索引值{list3.index(\"watermelon\")}的位置')"
   ]
  },
  {
   "cell_type": "markdown",
   "id": "b691e99d",
   "metadata": {},
   "source": [
    "8.sort()與reverse()"
   ]
  },
  {
   "cell_type": "code",
   "execution_count": 33,
   "id": "587b8df3",
   "metadata": {},
   "outputs": [
    {
     "name": "stdout",
     "output_type": "stream",
     "text": [
      "將list排序後的結果是[1, 3, 4, 8, 11, 11, 12, 19]\n",
      "將list1反轉內容後的結果是[7, 18, 12, 8, 1, 9, 3]\n",
      "將list2反向排序後的結果是['xq', 'xa', 'mn', 'by', 'bb', 'ak', 'aa']\n"
     ]
    }
   ],
   "source": [
    "list = [1 ,3 ,11 ,19 ,8 , 4, 12, 11]\n",
    "list.sort() #排序\n",
    "print(f'將list排序後的結果是{list}')\n",
    "list1 = [3 ,9 ,1 ,8 ,12 ,18 ,7]\n",
    "list1.reverse() #反轉內容\n",
    "print(f'將list1反轉內容後的結果是{list1}') \n",
    "\n",
    "list2 =['aa' ,'ak' ,'by' ,'xq' ,'mn' ,'bb' ,'xa']\n",
    "list2.sort(reverse = True) #反向排序 若非數字 英文字母由a開始排到z 相同的看下一個字母以此類推\n",
    "print(f'將list2反向排序後的結果是{list2}')"
   ]
  },
  {
   "cell_type": "markdown",
   "id": "51070003",
   "metadata": {},
   "source": [
    "9.in 與not in  \n",
    "<sub>in與 not in 用來判斷特定資料是否存在於串列中，其使用語法資料 in 串列  或 資料 not in 串列  ，傳回值為True 或False\n"
   ]
  },
  {
   "cell_type": "code",
   "execution_count": 37,
   "id": "75c701bb",
   "metadata": {},
   "outputs": [
    {
     "name": "stdout",
     "output_type": "stream",
     "text": [
      "99不在串列裡面\n",
      "98在串列裡面\n",
      "77在串列裡面\n"
     ]
    }
   ],
   "source": [
    "list = [1 ,3 ,11 ,19 ,8 , 4, 12, 11 ,98 ,78 ,45 ,77 ,56]\n",
    "check01 = 99 in list\n",
    "check02 = 98 in list\n",
    "check03 = 77 not in list\n",
    "\n",
    "if check01 == True:\n",
    "    print('99在串列裡面')\n",
    "else:\n",
    "    print('99不在串列裡面')\n",
    "\n",
    "if check02 == True:\n",
    "    print('98在串列裡面')\n",
    "else:\n",
    "    print('98不在串列裡面')\n",
    "\n",
    "if check03 == True:\n",
    "    print('77不在串列裡面')\n",
    "else:\n",
    "    print('77在串列裡面')"
   ]
  },
  {
   "cell_type": "markdown",
   "id": "729d022e",
   "metadata": {},
   "source": [
    "10. 加號(+) 與 乘號*  \n",
    "<sub>串列功能中，使用 (+) 號能將兩個串列連結在一起，使用 * 號 可以複製串列內容"
   ]
  },
  {
   "cell_type": "code",
   "execution_count": 38,
   "id": "8c8e2b2a",
   "metadata": {},
   "outputs": [
    {
     "name": "stdout",
     "output_type": "stream",
     "text": [
      "['watermelon', 'peach', 'cherry', 1, 3, 5, 7]\n"
     ]
    }
   ],
   "source": [
    "list1 = ['watermelon' ,'peach' ,'cherry']\n",
    "list2 = [1 ,3 ,5 ,7]\n",
    "new = list1 +list2\n",
    "print(new)"
   ]
  },
  {
   "cell_type": "code",
   "execution_count": 39,
   "id": "a5747ec0",
   "metadata": {},
   "outputs": [
    {
     "name": "stdout",
     "output_type": "stream",
     "text": [
      "[1, 3, 5, 7, 1, 3, 5, 7]\n"
     ]
    }
   ],
   "source": [
    "list1 = ['watermelon' ,'peach' ,'cherry']\n",
    "list2 = [1 ,3 ,5 ,7]\n",
    "new = list2 * 2\n",
    "print(new)"
   ]
  },
  {
   "cell_type": "code",
   "execution_count": 40,
   "id": "db18870a",
   "metadata": {},
   "outputs": [
    {
     "name": "stdout",
     "output_type": "stream",
     "text": [
      "[1, 3, 5, 7, 'watermelon', 'peach', 'cherry']\n"
     ]
    }
   ],
   "source": [
    "list1 = ['watermelon' ,'peach' ,'cherry']\n",
    "list2 = [1 ,3 ,5 ,7]\n",
    "list2 += list1\n",
    "print(list2)"
   ]
  },
  {
   "cell_type": "markdown",
   "id": "df8c1c4d",
   "metadata": {},
   "source": [
    "11.使用for迴圈列印  \n",
    "<sub>使用for迴圈配合串列，可解決大量資料反覆列印的問題，前面已經用過迴圈進行串列輸入，在輸出部分也容易利用"
   ]
  },
  {
   "cell_type": "code",
   "execution_count": 41,
   "id": "de4f4613",
   "metadata": {},
   "outputs": [
    {
     "name": "stdout",
     "output_type": "stream",
     "text": [
      "list[0] = apple\n",
      "list[1] = grape\n",
      "list[2] = banana\n",
      "list[3] = avocado\n",
      "list[4] = apple\n",
      "list[5] = banana\n",
      "list[6] = apple\n",
      "list[7] = pineapple\n",
      "list[8] = grape\n"
     ]
    }
   ],
   "source": [
    "list3 = ['apple' ,'grape' ,'banana' ,'avocado' ,'apple' ,'banana' ,'apple' ,'pineapple' ,'grape']\n",
    "for i in range(len(list3)):\n",
    "    print(f'list[{i}] = {list3[i]}')"
   ]
  },
  {
   "cell_type": "code",
   "execution_count": 42,
   "id": "b9d12c9e",
   "metadata": {},
   "outputs": [
    {
     "name": "stdout",
     "output_type": "stream",
     "text": [
      "apple grape banana avocado apple banana apple pineapple grape "
     ]
    }
   ],
   "source": [
    "list3 = ['apple' ,'grape' ,'banana' ,'avocado' ,'apple' ,'banana' ,'apple' ,'pineapple' ,'grape']\n",
    "for i in list3:\n",
    "    print(i,end = ' ')\n",
    "    #這種方式會造成原來索引值i原來用作數值顯示功能，如上面範例list[i] 這時就無法使用，解決辦法再加一個變數\n"
   ]
  },
  {
   "cell_type": "code",
   "execution_count": 43,
   "id": "a4294a4b",
   "metadata": {},
   "outputs": [
    {
     "name": "stdout",
     "output_type": "stream",
     "text": [
      "list3[0] = apple\n",
      "list3[1] = grape\n",
      "list3[2] = banana\n",
      "list3[3] = avocado\n",
      "list3[4] = apple\n",
      "list3[5] = banana\n",
      "list3[6] = apple\n",
      "list3[7] = pineapple\n",
      "list3[8] = grape\n"
     ]
    }
   ],
   "source": [
    "list3 = ['apple' ,'grape' ,'banana' ,'avocado' ,'apple' ,'banana' ,'apple' ,'pineapple' ,'grape']\n",
    "x = 0\n",
    "for i in list3:\n",
    "    print(f\"list3[{x}] = {i}\")\n",
    "    x +=1\n"
   ]
  }
 ],
 "metadata": {
  "kernelspec": {
   "display_name": "Python 3",
   "language": "python",
   "name": "python3"
  },
  "language_info": {
   "codemirror_mode": {
    "name": "ipython",
    "version": 3
   },
   "file_extension": ".py",
   "mimetype": "text/x-python",
   "name": "python",
   "nbconvert_exporter": "python",
   "pygments_lexer": "ipython3",
   "version": "3.13.7"
  }
 },
 "nbformat": 4,
 "nbformat_minor": 5
}
