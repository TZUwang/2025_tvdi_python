{
 "cells": [
  {
   "cell_type": "markdown",
   "id": "035d044c",
   "metadata": {},
   "source": [
    "## 練習題"
   ]
  },
  {
   "cell_type": "markdown",
   "id": "4eaebbe9",
   "metadata": {},
   "source": [
    "<sub>1.輸入數個整數並儲存至串列中，直到輸入-9999結束，再將此串列轉換成元組 ，最後顯示該元組 以及長度、最大值、最小值、總和。"
   ]
  },
  {
   "cell_type": "code",
   "execution_count": 8,
   "id": "2446fc32",
   "metadata": {},
   "outputs": [],
   "source": [
    "numbers = []\n",
    "a = int(input('請輸入整數（輸入-9999結束）:'))\n",
    "while a != -9999:\n",
    "    numbers.append(a)\n",
    "    a = int(input(\"輸入整數（輸入-9999結束）：\"))\n"
   ]
  }
 ],
 "metadata": {
  "kernelspec": {
   "display_name": "Python 3",
   "language": "python",
   "name": "python3"
  },
  "language_info": {
   "codemirror_mode": {
    "name": "ipython",
    "version": 3
   },
   "file_extension": ".py",
   "mimetype": "text/x-python",
   "name": "python",
   "nbconvert_exporter": "python",
   "pygments_lexer": "ipython3",
   "version": "3.13.7"
  }
 },
 "nbformat": 4,
 "nbformat_minor": 5
}
