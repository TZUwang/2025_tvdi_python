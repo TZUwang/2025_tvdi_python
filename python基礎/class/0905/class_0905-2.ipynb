{
 "cells": [
  {
   "cell_type": "markdown",
   "id": "ce472753",
   "metadata": {},
   "source": [
    "練習題  \n",
    "<sub>1.使用隨機方式產生樂透號碼 6個數字(1~49)，並存放入串列中，印出結果"
   ]
  },
  {
   "cell_type": "code",
   "execution_count": null,
   "id": "036dfdcc",
   "metadata": {},
   "outputs": [
    {
     "name": "stdout",
     "output_type": "stream",
     "text": [
      "樂透號碼: [1, 19, 19, 28, 10, 28]\n"
     ]
    }
   ],
   "source": [
    "import random\n",
    "\n",
    "pool = list(range(1,50))\n",
    "lot= random.choices(pool , k=6) #choices可重複\n",
    "print(f\"樂透號碼: {lot}\")"
   ]
  },
  {
   "cell_type": "markdown",
   "id": "5764671e",
   "metadata": {},
   "source": [
    "<sub>2.若要不重複的樂透號碼"
   ]
  },
  {
   "cell_type": "code",
   "execution_count": null,
   "id": "93541cc9",
   "metadata": {},
   "outputs": [
    {
     "name": "stdout",
     "output_type": "stream",
     "text": [
      "樂透號碼: [5, 11, 14, 34, 37, 44]\n"
     ]
    }
   ],
   "source": [
    "lot= random.sample(pool , 6) #sample不重複\n",
    "lot.sort()\n",
    "print(f\"樂透號碼: {lot}\")"
   ]
  },
  {
   "cell_type": "markdown",
   "id": "07cc3689",
   "metadata": {},
   "source": [
    "<sub>3.人工輸入12個正整數，存入串列，排序後輸出結果"
   ]
  },
  {
   "cell_type": "code",
   "execution_count": 41,
   "id": "e3c2e06a",
   "metadata": {},
   "outputs": [
    {
     "name": "stdout",
     "output_type": "stream",
     "text": [
      "輸入的數字為: [56, 69, 5269, 5278, 6969, 6987, 7414, 7414, 7789, 7878, 8787, 9696]\n"
     ]
    }
   ],
   "source": [
    "list = [int(input(f'請輸入12個正整數:'))for i in range(1,13)]\n",
    "list.sort()\n",
    "print(\"輸入的數字為:\",list)\n",
    "\n"
   ]
  },
  {
   "cell_type": "markdown",
   "id": "3516b4e9",
   "metadata": {},
   "source": [
    "<sub>4.隨機輸出五張撲克牌，不論花色，點數存放到串列中，計算點數"
   ]
  },
  {
   "cell_type": "code",
   "execution_count": 49,
   "id": "24e77a68",
   "metadata": {},
   "outputs": [
    {
     "name": "stdout",
     "output_type": "stream",
     "text": [
      "撲克牌: [3, 9, 6, 7, 13]\n",
      "點數總和: 38\n"
     ]
    }
   ],
   "source": [
    "import random\n",
    "card = [1 ,2 ,3 ,4 ,5 ,6 ,7 ,8 ,9 ,10 ,11 ,12 ,13]\n",
    "poker = random.choices(card, k=5) #choices可重複\n",
    "print(\"撲克牌:\", poker)\n",
    "points = 0\n",
    "for i in poker:\n",
    "    points += i\n",
    "    \n",
    "print(\"點數總和:\", points)"
   ]
  },
  {
   "cell_type": "markdown",
   "id": "d90411c2",
   "metadata": {},
   "source": [
    "<sub>5.使用者輸入十個數字存放串列中，接著由大到小順序顯示最大的三個數字"
   ]
  },
  {
   "cell_type": "code",
   "execution_count": 50,
   "id": "6affd23b",
   "metadata": {},
   "outputs": [
    {
     "name": "stdout",
     "output_type": "stream",
     "text": [
      "[111, 99, 88]\n"
     ]
    }
   ],
   "source": [
    "a = [int(input(f'請輸入第{i+1}個數字：')) for i in range(10)]\n",
    "a.sort(reverse=True)\n",
    "print(a[:3]) #印出索引值2之前的所有項目"
   ]
  },
  {
   "cell_type": "markdown",
   "id": "cd944355",
   "metadata": {},
   "source": [
    "<sub>6.使用者輸入十個數字，做為樣本數，輸出眾數(出現最多次數的數字)"
   ]
  },
  {
   "cell_type": "code",
   "execution_count": 51,
   "id": "55d07eee",
   "metadata": {},
   "outputs": [
    {
     "name": "stdout",
     "output_type": "stream",
     "text": [
      "眾數為[2] 出現了3次\n"
     ]
    }
   ],
   "source": [
    "a = [int(input(f'請輸入{i+1}個數字'))for i in range(10)]\n",
    "\n",
    "max = 0 # 初始化一個變數 max 來記錄數字出現的最高次數，初始值為 0\n",
    "for num in a:\n",
    "    count = a.count(num) # 計算目前這個數字(num)在整個列表 a 中出現的次數\n",
    "    if count > max: # 如果這個數字出現的次數比目前紀錄的最高次數(max)還多\n",
    "        max = count # 就更新最高次數為這個數字的出現次數\n",
    "\n",
    "ans = [] #用來存放找到的眾數\n",
    "for num in a: \n",
    "    count = a.count(num) # 再次計算每個數字在列表 a 中出現的次數\n",
    "    if count == max and num not in ans: #1.這個數字的出現次數是否等於我們之前找到的最高次數 2.這個數字是否尚未被加入到 ans 列表中\n",
    "        ans.append(num) # 如果兩個條件都滿足，就將這個數字加入到 ans 列表中\n",
    "print(f'眾數為{ans} 出現了{max}次')"
   ]
  }
 ],
 "metadata": {
  "kernelspec": {
   "display_name": "Python 3",
   "language": "python",
   "name": "python3"
  },
  "language_info": {
   "codemirror_mode": {
    "name": "ipython",
    "version": 3
   },
   "file_extension": ".py",
   "mimetype": "text/x-python",
   "name": "python",
   "nbconvert_exporter": "python",
   "pygments_lexer": "ipython3",
   "version": "3.13.7"
  }
 },
 "nbformat": 4,
 "nbformat_minor": 5
}
