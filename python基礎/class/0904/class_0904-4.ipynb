{
 "cells": [
  {
   "cell_type": "markdown",
   "id": "aef7b9ce",
   "metadata": {},
   "source": [
    "練習題  \n",
    "<sub>1.\t建立一個函式compute()，讓使用者輸入學號、姓名、科系，透過呼叫顯示這些訊息"
   ]
  },
  {
   "cell_type": "code",
   "execution_count": 1,
   "id": "e5b1e5fe",
   "metadata": {},
   "outputs": [
    {
     "name": "stdout",
     "output_type": "stream",
     "text": [
      "請輸入學號、姓名、科系\n",
      "你的學號: 112233 姓名: QQQQQQQ 科系: 痾痾痾痾\n"
     ]
    }
   ],
   "source": [
    "def compute():\n",
    "    id = input('請輸入學號:\\n')\n",
    "    name = input('請輸入姓名:\\n')\n",
    "    department = input('請輸入科系:\\n')\n",
    "    print(f'你的學號: {id} 姓名: {name} 科系: {department}')\n",
    "\n",
    "def main():\n",
    "    print('請輸入學號、姓名、科系')\n",
    "    compute()\n",
    "\n",
    "main()"
   ]
  },
  {
   "cell_type": "markdown",
   "id": "7531841f",
   "metadata": {},
   "source": [
    "<sub>2.\t建立一個函式compute(x,y)。讓使用者輸入2個數字做為參數，透過呼叫函式，回傳(return x*y)的乘積"
   ]
  },
  {
   "cell_type": "code",
   "execution_count": 4,
   "id": "6ddfdccc",
   "metadata": {},
   "outputs": [
    {
     "name": "stdout",
     "output_type": "stream",
     "text": [
      "66和99乘積為: 6534\n"
     ]
    }
   ],
   "source": [
    "def compute(x,y):\n",
    "    return x*y\n",
    "\n",
    "def main():\n",
    "    a = int(input('請輸入第一個數字:\\n'))\n",
    "    b = int(input('請輸入第二個數字:\\n'))\n",
    "    print(f'{a}和{b}乘積為: {compute(a,b)}')\n",
    "\n",
    "main()"
   ]
  },
  {
   "cell_type": "markdown",
   "id": "7ee04ec2",
   "metadata": {},
   "source": [
    "<sub>3.\t讓使用者輸入2個整數，呼叫函式compute(x,y) 並傳送2個參數給函數，讓函數回傳從x到y連續加總的結果"
   ]
  },
  {
   "cell_type": "code",
   "execution_count": null,
   "id": "f710e457",
   "metadata": {},
   "outputs": [],
   "source": [
    "def compute(x,y):\n",
    "    total = 0\n",
    "    for i in range(x,y+1):\n",
    "        total += i\n",
    "    return total\n",
    "\n",
    "def main():\n",
    "    a = int(input('請輸入第一個數:\\n'))\n",
    "    b = int(input('請輸入第二個數:\\n'))\n",
    "    sol = compute(a,b)\n",
    "    print(f'從 {a} 到 {b} 的連續加總為: {sol}')\n",
    "\n",
    "main()"
   ]
  },
  {
   "cell_type": "markdown",
   "id": "bdf7bdc8",
   "metadata": {},
   "source": [
    "<sub>4.讓使用者輸入2個整數，呼叫函式compute(x,y) 並傳送2個參數給函數，讓函數回傳x^y的值"
   ]
  },
  {
   "cell_type": "code",
   "execution_count": 6,
   "id": "78507a20",
   "metadata": {},
   "outputs": [
    {
     "name": "stdout",
     "output_type": "stream",
     "text": [
      "5的10次方 = 9765625\n"
     ]
    }
   ],
   "source": [
    "def compute(x,y):\n",
    "    return x**y\n",
    "\n",
    "def main():\n",
    "    x = int(input('請輸入x值:\\n'))\n",
    "    y = int(input('請輸入y值:\\n'))\n",
    "    print(f'{x}的{y}次方 = {compute(x,y)}')\n",
    "\n",
    "main()"
   ]
  },
  {
   "cell_type": "markdown",
   "id": "9e882054",
   "metadata": {},
   "source": [
    "<sub>5.\t建立一個函式compute(a,x,y) 使用者輸入3個參數：a (字元)、x(個數)、y(列數)，印出 y列 x個的a字元"
   ]
  },
  {
   "cell_type": "code",
   "execution_count": 7,
   "id": "dbec2d71",
   "metadata": {},
   "outputs": [
    {
     "name": "stdout",
     "output_type": "stream",
     "text": [
      "##########\n",
      "##########\n",
      "##########\n",
      "##########\n",
      "##########\n"
     ]
    }
   ],
   "source": [
    "def compute(a, x, y):\n",
    "    for i in range(y):\n",
    "        for j in range(x):\n",
    "            print(a, end='')\n",
    "        print()\n",
    "    \n",
    "\n",
    "\n",
    "def main():\n",
    "    q = input('請輸入字元:\\n')\n",
    "    w = int(input('請輸入個數:\\n'))\n",
    "    e = int(input('請輸入列數:\\n'))\n",
    "    compute(q, w, e)\n",
    "\n",
    "main()"
   ]
  },
  {
   "cell_type": "markdown",
   "id": "f5e62d51",
   "metadata": {},
   "source": [
    "<sub>6.\t撰寫圓面積、長方形面積、三角形面積函式，透過輸入圓形半徑、長方形長、寬，三角形底和高，計算並輸出三個圖形面積與三個面積和"
   ]
  },
  {
   "cell_type": "code",
   "execution_count": null,
   "id": "c5718951",
   "metadata": {},
   "outputs": [],
   "source": [
    "def circle_area(a):\n",
    "    import math\n",
    "    b = math.pi * a**2\n",
    "    return b\n",
    "\n",
    "def rectangle_area(a,b):\n",
    "    c = a * b\n",
    "    return c\n",
    "\n",
    "def triangle_area(a,b):\n",
    "    c = a * b / 2\n",
    "    return c\n",
    "\n",
    "def main():\n",
    "    a = float(input('請輸入圓形半徑:\\n'))\n",
    "    b = float(input('請輸入長方形長:\\n'))\n",
    "    c = float(input('請輸入長方形寬:\\n'))\n",
    "    d = float(input('請輸入三角形底:\\n'))\n",
    "    e = float(input('請輸入三角形高:\\n'))\n",
    "    print(f'圓形面積為: {circle_area(a)} 長方形面積為: {rectangle_area(b,c)} 三角形面積為: {triangle_area(d,e)} 三個面積和為: {circle_area(a)+rectangle_area(b,c)+triangle_area(d,e)}')\n",
    "\n",
    "main()"
   ]
  },
  {
   "cell_type": "markdown",
   "id": "2881f8ae",
   "metadata": {},
   "source": [
    "<sub>7.\t輸入2個正整數x,y，傳入最大公因數函式內，函式回傳最大公因數計算結果"
   ]
  },
  {
   "cell_type": "code",
   "execution_count": null,
   "id": "1af2a81d",
   "metadata": {},
   "outputs": [],
   "source": [
    "def GreatestCommonDivisor(x ,y):\n",
    "    if y > x:\n",
    "        x,y = y,x\n",
    "    for i in range(x,0,-1):\n",
    "        if x % i == 0 and y % i == 0:\n",
    "            return i\n",
    "\n",
    "def main():\n",
    "    x = int(input('請輸入第一個數字:\\n'))\n",
    "    y = int(input('請輸入第二個數字:\\n'))\n",
    "    print(f'最大公因數為: {GreatestCommonDivisor(x,y)}')\n",
    "\n",
    "main()"
   ]
  },
  {
   "cell_type": "markdown",
   "id": "0399b6f6",
   "metadata": {},
   "source": [
    "<sub>8.\t某市區停車場車位不足，為鼓勵車輛提早移出，進行如下規範：  \n",
    "(a). 2小時以內(含2小時)，每小時以30元計算  \n",
    "(b). 2小時以上到4小時(含4小時)，每小時以50元計算  \n",
    "(c). 4小時以上到6小時(含6小時)，每小時以80元計算  \n",
    "(d). 6小時以上，每小時以100元計算  \n",
    "請撰寫程式輸入停車時數，傳入函數參數內，函數傳回停車費計算結果\n"
   ]
  },
  {
   "cell_type": "code",
   "execution_count": 9,
   "id": "affea33a",
   "metadata": {},
   "outputs": [
    {
     "name": "stdout",
     "output_type": "stream",
     "text": [
      "你停了30小時 停車費為: 2720 元\n"
     ]
    }
   ],
   "source": [
    "def parkfee(hours):\n",
    "    if hours <= 2:\n",
    "        money = hours * 30\n",
    "    elif hours <= 4:\n",
    "        money = 2 * 30 + (hours - 2) * 50\n",
    "    elif hours <= 6:\n",
    "        money = 2 * 30 + 2 * 50 + (hours - 4) * 80\n",
    "    else:\n",
    "        money = 2 * 30 + 2 * 50 + 2 * 80 + (hours - 6) * 100\n",
    "    return money\n",
    "\n",
    "def main():\n",
    "    time = int(input('請輸入停車時數:\\n'))\n",
    "    money = parkfee(time)\n",
    "    print(f'你停了{time}小時 停車費為: {money} 元')\n",
    "\n",
    "main()"
   ]
  },
  {
   "cell_type": "markdown",
   "id": "f57f6535",
   "metadata": {},
   "source": [
    "<sub>9.\t使用函數撰寫骰子比大小程式，先由電腦模擬投擲三個骰子和，再由使用者輸入一個值(自訂)模擬投擲動作，透過亂數產生三個骰子和，並和電腦輸出結果比大小，印出\"你贏了\"或\"你輸了\""
   ]
  },
  {
   "cell_type": "code",
   "execution_count": 15,
   "id": "5aeb18a5",
   "metadata": {},
   "outputs": [
    {
     "name": "stdout",
     "output_type": "stream",
     "text": [
      "你的點數是4,3,4總和是11 電腦的點數是1,2,5總和是8\n",
      "\n",
      "你贏麻了\n"
     ]
    }
   ],
   "source": [
    "import random\n",
    "def dice():\n",
    "    dice1 = random.randint(1, 6)\n",
    "    dice2 = random.randint(1, 6)\n",
    "    dice3 = random.randint(1, 6)\n",
    "    sum = dice1 + dice2 + dice3\n",
    "    return dice1, dice2, dice3, sum\n",
    "\n",
    "def main():\n",
    "    import random\n",
    "    a = int(input(f'請按1進行投擲骰子'))\n",
    "    if a == 1:\n",
    "        Userdice1 = random.randint(1, 6)\n",
    "        Userdice2 = random.randint(1, 6)\n",
    "        Userdice3 = random.randint(1, 6)\n",
    "        Usersum = Userdice1 + Userdice2 + Userdice3\n",
    "    \n",
    "        a ,b ,c ,d = dice()\n",
    "        if d > Usersum:\n",
    "            print(f'你的點數是{Userdice1},{Userdice2},{Userdice3}總和是{Usersum} 電腦的點數是{a},{b},{c}總和是{d}')\n",
    "            print('\\n你輸慘了')\n",
    "        elif d < Usersum:\n",
    "            print(f'你的點數是{Userdice1},{Userdice2},{Userdice3}總和是{Usersum} 電腦的點數是{a},{b},{c}總和是{d}')\n",
    "            print('\\n你贏麻了')\n",
    "        else:\n",
    "            print('平手')\n",
    "    else:\n",
    "        print('不玩就滾')\n",
    "\n",
    "main()"
   ]
  }
 ],
 "metadata": {
  "kernelspec": {
   "display_name": "Python 3",
   "language": "python",
   "name": "python3"
  },
  "language_info": {
   "codemirror_mode": {
    "name": "ipython",
    "version": 3
   },
   "file_extension": ".py",
   "mimetype": "text/x-python",
   "name": "python",
   "nbconvert_exporter": "python",
   "pygments_lexer": "ipython3",
   "version": "3.13.7"
  }
 },
 "nbformat": 4,
 "nbformat_minor": 5
}
