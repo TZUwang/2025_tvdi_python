{
 "cells": [
  {
   "cell_type": "markdown",
   "id": "43a7973e",
   "metadata": {},
   "source": [
    "1.輸入兩個西元年份 並且顯示這兩個年份之間的所有閏年 每一列顯示10筆資料"
   ]
  },
  {
   "cell_type": "code",
   "execution_count": 2,
   "id": "3a145f3a",
   "metadata": {},
   "outputs": [
    {
     "name": "stdout",
     "output_type": "stream",
     "text": [
      "2000 2004 2008 2012 2016 2020 2024 2028 2032 2036 \n",
      "2040 2044 2048 2052 2056 2060 2064 2068 2072 2076 \n",
      "2080 2084 2088 2092 2096 "
     ]
    }
   ],
   "source": [
    "count = 0\n",
    "year1 = int(input(\"請輸入第一個西元年份: \"))\n",
    "year2 = int(input(\"請輸入第二個西元年份: \"))\n",
    "if year1 > year2:\n",
    "    year1 , year2 = year2 , year1\n",
    "for i in range(year1, year2+1):\n",
    "    if i % 4 == 0 and i % 100 != 0 or i % 400 == 0:\n",
    "        print('%4d'%i, end=\" \")\n",
    "        count += 1\n",
    "        if count % 10 == 0:\n",
    "            print()"
   ]
  },
  {
   "cell_type": "markdown",
   "id": "ec843cc9",
   "metadata": {},
   "source": [
    "9.輸入三個正整數a, b, c然後求最大公因數"
   ]
  },
  {
   "cell_type": "code",
   "execution_count": 3,
   "id": "9980cde0",
   "metadata": {},
   "outputs": [
    {
     "name": "stdout",
     "output_type": "stream",
     "text": [
      "最大公因數為9\n"
     ]
    }
   ],
   "source": [
    "a = int(input(\"請輸入正整數a: \"))\n",
    "b = int(input(\"請輸入正整數b: \"))\n",
    "c = int(input(\"請輸入正整數c: \"))\n",
    "if a > b:\n",
    "    a , b = b , a\n",
    "if b > c:\n",
    "    b , c = c , b\n",
    "if a > c:\n",
    "    a , c = c , a\n",
    "for i in range(a, 0, -1): #從最小的數開始往下找 都可以被整除的就是公因數\n",
    "    if a % i == 0 and b % i == 0 and c % i == 0:\n",
    "        x = i\n",
    "        print(f'最大公因數為{x}')\n",
    "        break"
   ]
  },
  {
   "cell_type": "markdown",
   "id": "9555a12c",
   "metadata": {},
   "source": [
    "10.一個數若恰巧等於他的因數之和稱為完美數 設計一個for迴圈 輸入一個值 找出這個值以內的所有完美數"
   ]
  },
  {
   "cell_type": "code",
   "execution_count": 8,
   "id": "ee503366",
   "metadata": {},
   "outputs": [
    {
     "name": "stdout",
     "output_type": "stream",
     "text": [
      "從1到10000的完美數有以下:\n",
      "  6  28 496 8128 \n",
      "判斷結束\n"
     ]
    }
   ],
   "source": [
    "a = int(input('請輸入一個數字'))\n",
    "\n",
    "print(f'從1到{a}的完美數有以下:')\n",
    "for i in range(1, a+1):\n",
    "    sum = 0\n",
    "    for j in range(1 ,i-1):\n",
    "        if i % j == 0:\n",
    "            sum += j\n",
    "    if sum == i:\n",
    "        print('%3d'%i,end = ' ')\n",
    "print('\\n判斷結束')"
   ]
  },
  {
   "cell_type": "markdown",
   "id": "4e294ace",
   "metadata": {},
   "source": [
    "隨機生成樂透號碼 6個不重複號碼 配一個特別號(不使用串列)"
   ]
  },
  {
   "cell_type": "code",
   "execution_count": null,
   "id": "8e8e19ae",
   "metadata": {},
   "outputs": [
    {
     "name": "stdout",
     "output_type": "stream",
     "text": [
      "樂透號碼為14 29 18 13 31 23特別號為10\n"
     ]
    }
   ],
   "source": [
    "import random\n",
    "num1 = random.randint(1 ,49)\n",
    "num2 = random.randint(1 ,49)\n",
    "while num2 == num1:\n",
    "    num2 = random.randint(1 ,49)\n",
    "num3 = random.randint(1 ,49)\n",
    "while num3 == num2 or num3 == num1:\n",
    "    num3 = random.randint(1 ,49)\n",
    "num4 = random.randint(1 ,49)\n",
    "while num4 == num3 or num4 == num2 or num4 == num1:\n",
    "    num4 = random.randint(1 ,49)\n",
    "num5 = random.randint(1 ,49)\n",
    "while  num5 == num4 or num5 == num3 or num5 == num2 or num5 == num1:\n",
    "    num5 = random.randint(1 ,49)\n",
    "num6 = random.randint(1 ,49)\n",
    "while  num6 == num5 or num6 == num4 or num6 == num3 or num6 == num2 or num6 == num1:\n",
    "    num6 = random.randint(1 ,49)\n",
    "special = random.randint(1 ,49)\n",
    "while special == num6 or special == num5 or special == num4 or special == num3 or special == num2 or special == num1:\n",
    "    special = random.randint(1 ,49)\n",
    "\n",
    "print(f'樂透號碼為{num1} {num2} {num3} {num4} {num5} {num6}特別號為{special}')\n",
    "\n",
    "\n",
    "    "
   ]
  },
  {
   "cell_type": "markdown",
   "id": "7495c933",
   "metadata": {},
   "source": [
    "與電腦猜拳 三戰兩勝 判斷輸贏"
   ]
  },
  {
   "cell_type": "code",
   "execution_count": 78,
   "id": "fe20533e",
   "metadata": {},
   "outputs": [
    {
     "name": "stdout",
     "output_type": "stream",
     "text": [
      "剪刀石頭布：三戰兩勝\n",
      "\n",
      "第 1 回合\n",
      "你出布 電腦出石頭\n",
      "這局你贏\n",
      "\n",
      "第 2 回合\n",
      "你出布 電腦出布\n",
      "這局平手\n",
      "\n",
      "第 3 回合\n",
      "你出剪刀 電腦出布\n",
      "這局你贏\n",
      "\n",
      "=====對局結束=====\n",
      "最終結果2:0你贏了\n"
     ]
    }
   ],
   "source": [
    "import random\n",
    "player_wins = 0\n",
    "computer_wins = 0\n",
    "round_count = 1\n",
    "print(\"剪刀石頭布：三戰兩勝\")\n",
    "while player_wins < 2 and computer_wins < 2:\n",
    "    print(f\"\\n第 {round_count} 回合\")\n",
    "    a = int(input('你要出 1.剪刀 2.石頭 還是 3.布: '))\n",
    "    b = random.randint(1, 3)\n",
    "    \n",
    "    if a == 1:\n",
    "        print(\"你出剪刀\",end = ' ')\n",
    "    elif a == 2:\n",
    "        print('你出石頭',end = ' ')\n",
    "    elif a == 3:\n",
    "        print('你出布',end = ' ')\n",
    "    \n",
    "    if b == 1:\n",
    "        print(\"電腦出剪刀\")\n",
    "    elif b == 2:\n",
    "        print('電腦出石頭')\n",
    "    elif b == 3:\n",
    "        print('電腦出布') \n",
    "    \n",
    "    if a == b :\n",
    "        round_count += 1\n",
    "        print(\"這局平手\")\n",
    "    if (a == 1 and b == 2) or (a == 2 and b == 3) or (a == 3 and b == 1):\n",
    "        round_count += 1\n",
    "        computer_wins += 1\n",
    "        print(\"這局電腦贏\")\n",
    "    if (a == 1 and b == 3) or (a ==2 and b == 1) or (a == 3 and b == 2):\n",
    "        round_count += 1\n",
    "        player_wins += 1\n",
    "        print(\"這局你贏\")\n",
    "print(f\"\\n=====對局結束=====\")\n",
    "if computer_wins == 2:\n",
    "    print(f'最終結果{player_wins}:{computer_wins}你輸了')\n",
    "if player_wins == 2:\n",
    "    print(f'最終結果{player_wins}:{computer_wins}你贏了')\n",
    "\n",
    "\n",
    "    "
   ]
  }
 ],
 "metadata": {
  "kernelspec": {
   "display_name": "Python 3",
   "language": "python",
   "name": "python3"
  },
  "language_info": {
   "codemirror_mode": {
    "name": "ipython",
    "version": 3
   },
   "file_extension": ".py",
   "mimetype": "text/x-python",
   "name": "python",
   "nbconvert_exporter": "python",
   "pygments_lexer": "ipython3",
   "version": "3.13.7"
  }
 },
 "nbformat": 4,
 "nbformat_minor": 5
}
