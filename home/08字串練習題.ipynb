{
 "cells": [
  {
   "cell_type": "markdown",
   "id": "dd9298d8",
   "metadata": {},
   "source": [
    "<sub>1.使用者輸入一個字串，顯示該字串的每一個字元索引"
   ]
  },
  {
   "cell_type": "code",
   "execution_count": 6,
   "id": "941e304c",
   "metadata": {},
   "outputs": [
    {
     "name": "stdout",
     "output_type": "stream",
     "text": [
      "索引值0為q 索引值1為w 索引值2為e 索引值3為r 索引值4為t 索引值5為y 索引值6為u 索引值7為i "
     ]
    }
   ],
   "source": [
    "a = str(input(\"請輸入字串:\"))\n",
    "\n",
    "for i in range(0, len(a)):\n",
    "    print(f\"索引值{i}為{a[i]}\", end=\" \")"
   ]
  },
  {
   "cell_type": "markdown",
   "id": "6a1e29c4",
   "metadata": {},
   "source": [
    "<sub>2.使用者輸入一個字串，顯示每個字元對應的ASCII碼，並將ASCII碼加總\n"
   ]
  },
  {
   "cell_type": "code",
   "execution_count": 15,
   "id": "3e97c485",
   "metadata": {},
   "outputs": [
    {
     "name": "stdout",
     "output_type": "stream",
     "text": [
      "索引值0的ASCII為100 \n",
      "索引值1的ASCII為102 \n",
      "索引值2的ASCII為103 \n",
      "索引值3的ASCII為104 \n",
      "索引值4的ASCII為100 \n",
      "索引值5的ASCII為102 \n",
      "索引值6的ASCII為103 \n",
      "索引值7的ASCII為104 \n",
      "總合為 818\n"
     ]
    }
   ],
   "source": [
    "a = str(input(\"請輸入字串:\"))\n",
    "\n",
    "sum = 0\n",
    "for i in range(0, len(a)):\n",
    "    trans_a = ord(a[i])\n",
    "    print(f\"索引值{i}的ASCII為{trans_a}\", end=\" \\n\")\n",
    "    sum += trans_a\n",
    "\n",
    "print('總合為',sum)"
   ]
  },
  {
   "cell_type": "markdown",
   "id": "2a4d43a1",
   "metadata": {},
   "source": [
    "<sub>3.使用者輸入一個句子，(至少五個詞，以空白隔開，並輸出倒數三個詞)\n"
   ]
  },
  {
   "cell_type": "code",
   "execution_count": 17,
   "id": "529854ae",
   "metadata": {},
   "outputs": [
    {
     "name": "stdout",
     "output_type": "stream",
     "text": [
      "倒數三個詞是 ['fghf', 'jhg', 'dfg']\n"
     ]
    }
   ],
   "source": [
    "a = str(input(\"請輸入字串(至少五個詞，以空白隔開):\"))\n",
    "a_new = a.split()\n",
    "\n",
    "if len(a_new) >= 5:\n",
    "    print(\"倒數三個詞是\",a_new[-3:])\n",
    "else:\n",
    "    print(\"字串的長度不足\")"
   ]
  },
  {
   "cell_type": "markdown",
   "id": "4fad21f4",
   "metadata": {},
   "source": [
    "<sub>4.使用者輸入一個字串，將字串1.全部改為大寫。2.每個字第一個字母改為大寫\n"
   ]
  },
  {
   "cell_type": "code",
   "execution_count": 19,
   "id": "8dce6633",
   "metadata": {},
   "outputs": [
    {
     "name": "stdout",
     "output_type": "stream",
     "text": [
      "全轉成大寫的字串: QAQ TAT YOY UOU OUO QAQ\n",
      "每個字第一個字母改為大寫的字串: Qaq Tat Yoy Uou Ouo Qaq\n"
     ]
    }
   ],
   "source": [
    "A = input(\"請輸入一個字串：\")\n",
    "\n",
    "A_upper = A.upper()\n",
    "print('全轉成大寫的字串:',A_upper)\n",
    "A_title = A.title()\n",
    "print('每個字第一個字母改為大寫的字串:',A_title)"
   ]
  },
  {
   "cell_type": "markdown",
   "id": "29e73c3f",
   "metadata": {},
   "source": [
    "<sub>5.使用者輸入一個字串和一個字元，計算字串中，字元出現的次數"
   ]
  },
  {
   "cell_type": "code",
   "execution_count": 21,
   "id": "61a264c5",
   "metadata": {},
   "outputs": [
    {
     "name": "stdout",
     "output_type": "stream",
     "text": [
      "字元h出現了5次\n"
     ]
    }
   ],
   "source": [
    "A = input(\"請輸入一個字串：\")\n",
    "B = input(\"請輸入一個要檢查的字元:\")\n",
    "\n",
    "C = A.count(B)\n",
    "print(f\"字元{B}出現了{C}次\")\n"
   ]
  },
  {
   "cell_type": "markdown",
   "id": "9d0b7798",
   "metadata": {},
   "source": [
    "<sub>6.使用者輸入一個字串，字串為五個數字，以空白隔開，加總五個數字並計算平均\n"
   ]
  },
  {
   "cell_type": "code",
   "execution_count": 1,
   "id": "339f989a",
   "metadata": {},
   "outputs": [
    {
     "name": "stdout",
     "output_type": "stream",
     "text": [
      "總和是: 151\n",
      "平均是: 30.2\n"
     ]
    }
   ],
   "source": [
    "a = (input(\"請輸入字串(五個數字，以空白隔開):\"))\n",
    "a_new = a.split()\n",
    "\n",
    "if len(a_new) == 5:\n",
    "    total = 0\n",
    "    for num in a_new:\n",
    "        total += int(num)\n",
    "    average = total / len(a_new)\n",
    "    print(\"總和是:\", total)\n",
    "    print(\"平均是:\", average)\n",
    "else:\n",
    "    print(\"字串的長度必須為五個數字\")\n"
   ]
  },
  {
   "cell_type": "markdown",
   "id": "97eb696d",
   "metadata": {},
   "source": [
    "<sub>7.使用者輸入一串序號，格式為ddd-dd-ddd ，d為數字。檢查輸入格式正確，則輸出\"格式正確！\"，否則輸出\"格式錯誤！\""
   ]
  },
  {
   "cell_type": "code",
   "execution_count": 2,
   "id": "fcda7f32",
   "metadata": {},
   "outputs": [
    {
     "name": "stdout",
     "output_type": "stream",
     "text": [
      "格式正確！\n"
     ]
    }
   ],
   "source": [
    "number = input(\"請輸入序號(格式為ddd-dd-ddd):\")\n",
    "\n",
    "parts = number.split(\"-\")\n",
    "if (len(parts) == 3 and\n",
    "    len(parts[0]) == 3 and parts[0].isdigit() and\n",
    "    len(parts[1]) == 2 and parts[1].isdigit() and\n",
    "    len(parts[2]) == 3 and parts[2].isdigit()):\n",
    "    print(\"格式正確！\")\n",
    "else:\n",
    "    print(\"格式錯誤！\")"
   ]
  },
  {
   "cell_type": "markdown",
   "id": "e99c6243",
   "metadata": {},
   "source": [
    "<sub>8.使用者輸入一組字串，檢查是否符合規則：1.至少8個字元，2.只有英文字母和數字，3.至少有一個大寫英文字母。符合顯示\"密碼已設定\"，不合顯示\"密碼設定不符規則\""
   ]
  },
  {
   "cell_type": "code",
   "execution_count": 3,
   "id": "06c94625",
   "metadata": {},
   "outputs": [
    {
     "name": "stdout",
     "output_type": "stream",
     "text": [
      "密碼已設定\n"
     ]
    }
   ],
   "source": [
    "password = input(\"請輸入你的密碼:\")\n",
    "\n",
    "if len(password) < 8:\n",
    "  print(\"密碼設定不符規則\")\n",
    "elif not password.isalnum():\n",
    "  print(\"密碼設定不符規則\")\n",
    "elif not any(letter.isupper() for letter in password):\n",
    "  print(\"密碼設定不符規則\")\n",
    "else:\n",
    "  print(\"密碼已設定\")"
   ]
  }
 ],
 "metadata": {
  "kernelspec": {
   "display_name": "Python 3",
   "language": "python",
   "name": "python3"
  },
  "language_info": {
   "codemirror_mode": {
    "name": "ipython",
    "version": 3
   },
   "file_extension": ".py",
   "mimetype": "text/x-python",
   "name": "python",
   "nbconvert_exporter": "python",
   "pygments_lexer": "ipython3",
   "version": "3.13.7"
  }
 },
 "nbformat": 4,
 "nbformat_minor": 5
}
