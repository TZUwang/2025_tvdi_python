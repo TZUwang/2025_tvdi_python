{
 "cells": [
  {
   "cell_type": "markdown",
   "id": "67c1ca5d",
   "metadata": {},
   "source": [
    "容器  \n",
    "\n",
    "串列List  [ ]  \n",
    "元組tuple ( )  \n",
    "集合set   { }  \n",
    "字典dic   {a:b,c:d}  \n",
    "字串str   \" \"  "
   ]
  },
  {
   "cell_type": "markdown",
   "id": "40603af0",
   "metadata": {},
   "source": [
    "### 元組(tuple)\n",
    "<sub>元組 是以小括號建立，元素間用逗號隔開"
   ]
  },
  {
   "cell_type": "code",
   "execution_count": 1,
   "id": "7e1814f7",
   "metadata": {},
   "outputs": [
    {
     "name": "stdout",
     "output_type": "stream",
     "text": [
      "(1, 2, 3, 4, 5)\n"
     ]
    }
   ],
   "source": [
    "tuple0 = (1 ,2 ,3 ,4 ,5)\n",
    "print(tuple0)"
   ]
  },
  {
   "cell_type": "markdown",
   "id": "12934bde",
   "metadata": {},
   "source": [
    "<sub>若括號內為空元素則為空元組"
   ]
  },
  {
   "cell_type": "code",
   "execution_count": 2,
   "id": "41e16b5f",
   "metadata": {},
   "outputs": [
    {
     "name": "stdout",
     "output_type": "stream",
     "text": [
      "()\n"
     ]
    }
   ],
   "source": [
    "tuple2 = ()\n",
    "print(tuple2)"
   ]
  },
  {
   "cell_type": "markdown",
   "id": "4313188d",
   "metadata": {},
   "source": [
    "<sub>從串列中建立元組"
   ]
  },
  {
   "cell_type": "code",
   "execution_count": 3,
   "id": "4d98ef4a",
   "metadata": {},
   "outputs": [
    {
     "name": "stdout",
     "output_type": "stream",
     "text": [
      "(1, 2, 3, 4, 5, 6, 7, 8, 9)\n"
     ]
    }
   ],
   "source": [
    "tuple3 = tuple([i for i in range(1,10)])\n",
    "print(tuple3)"
   ]
  },
  {
   "cell_type": "markdown",
   "id": "b1d2856c",
   "metadata": {},
   "source": [
    "<sub>字串也可以建立元組 有無加上tuple差很多"
   ]
  },
  {
   "cell_type": "code",
   "execution_count": 4,
   "id": "ceb90bb5",
   "metadata": {},
   "outputs": [
    {
     "name": "stdout",
     "output_type": "stream",
     "text": [
      "python\n",
      "('p', 'y', 't', 'h', 'o', 'n')\n"
     ]
    }
   ],
   "source": [
    "tuple4 = ('python')\n",
    "print(tuple4)\n",
    "tuple5 = tuple('python')\n",
    "print(tuple5)"
   ]
  },
  {
   "cell_type": "markdown",
   "id": "d79cb3b3",
   "metadata": {},
   "source": [
    "<sub>元組函式 可以用 len、max 、min、sum等串列使用的函式，以及in、not in、*、+ 運算子，這些功能和串列相似"
   ]
  },
  {
   "cell_type": "code",
   "execution_count": null,
   "id": "04204cb7",
   "metadata": {},
   "outputs": [
    {
     "name": "stdout",
     "output_type": "stream",
     "text": [
      "5\n",
      "5\n",
      "1\n",
      "15\n"
     ]
    }
   ],
   "source": [
    "#len、max 、min、sum\n",
    "tuple0 = (1 ,2 ,3 ,4 ,5)\n",
    "a = len(tuple0)\n",
    "print(a)\n",
    "b = max(tuple0)\n",
    "print(b)\n",
    "c = min(tuple0)\n",
    "print(c)\n",
    "d = sum(tuple0)\n",
    "print(d)"
   ]
  },
  {
   "cell_type": "code",
   "execution_count": 6,
   "id": "d81e4c23",
   "metadata": {},
   "outputs": [
    {
     "name": "stdout",
     "output_type": "stream",
     "text": [
      "True\n",
      "False\n",
      "True\n"
     ]
    }
   ],
   "source": [
    "#in、not in\n",
    "tuple1 = (2 ,4 ,1 ,3 ,9 ,5)\n",
    "a = 8 not in tuple1\n",
    "print(a)\n",
    "a = 9 not in tuple1\n",
    "print(a)\n",
    "a = 1 in tuple1\n",
    "print(a)"
   ]
  },
  {
   "cell_type": "markdown",
   "id": "33f4a980",
   "metadata": {},
   "source": [
    "<sub>元組 內的元素不能被刪除，但可以增加，增加方式使用 += 運算符號，要加入的元素放在小括號之中"
   ]
  },
  {
   "cell_type": "code",
   "execution_count": 7,
   "id": "282a08cd",
   "metadata": {},
   "outputs": [
    {
     "name": "stdout",
     "output_type": "stream",
     "text": [
      "(1, 2, 3, 4, 5, 6)\n",
      "(1, 2, 3, 4, 5, 6, 7, 8)\n"
     ]
    }
   ],
   "source": [
    "tuple0 = (1 ,2 ,3 ,4 ,5)\n",
    "tuple0 += (6,)  #增加一個元素時後面加逗號 增加一個以上的元素時就可以不用再最後+逗號\n",
    "print(tuple0)\n",
    "tuple0 += (7,8)\n",
    "print(tuple0)"
   ]
  },
  {
   "cell_type": "markdown",
   "id": "76a55abe",
   "metadata": {},
   "source": [
    "<sub>以使用索引值來取得所在位置的元素內容"
   ]
  },
  {
   "cell_type": "code",
   "execution_count": 3,
   "id": "c18cf82b",
   "metadata": {},
   "outputs": [
    {
     "name": "stdout",
     "output_type": "stream",
     "text": [
      "3\n",
      "5\n",
      "(3, 4, 5)\n",
      "(1, 2, 3, 4, 5, 6, 7, 8, 9, 1, 2, 3, 4, 5, 6, 7, 8, 9)\n"
     ]
    }
   ],
   "source": [
    "tuple0 = (1 ,2 ,3 ,4 ,5)\n",
    "tuple3 = tuple([i for i in range(1,10)])\n",
    "\n",
    "a = tuple0[2]\n",
    "print(a)\n",
    "b = tuple0[-1]\n",
    "print(b)\n",
    "c = tuple0[2:5] #索引值2-4的資料\n",
    "print(c)\n",
    "tuple0 = 2 * tuple3\n",
    "print(tuple0)"
   ]
  },
  {
   "cell_type": "markdown",
   "id": "21dd6c59",
   "metadata": {},
   "source": [
    "<sub>使用迴圈印出元組 中的所有資料"
   ]
  },
  {
   "cell_type": "code",
   "execution_count": 4,
   "id": "5729846f",
   "metadata": {},
   "outputs": [
    {
     "name": "stdout",
     "output_type": "stream",
     "text": [
      "1 2 3 4 5 "
     ]
    }
   ],
   "source": [
    "tuple0 = (1 ,2 ,3 ,4 ,5)\n",
    "for i in tuple0:\n",
    "    print(i,end=' ')"
   ]
  },
  {
   "cell_type": "markdown",
   "id": "ddc4b4a2",
   "metadata": {},
   "source": [
    "<sub>星號運算子 (*) 解包"
   ]
  },
  {
   "cell_type": "code",
   "execution_count": 8,
   "id": "e5cd5706",
   "metadata": {},
   "outputs": [
    {
     "name": "stdout",
     "output_type": "stream",
     "text": [
      "1 2 3 4 5\n"
     ]
    }
   ],
   "source": [
    "#星號 * 會將 tuple 裡的元素「解包」，把每個元素都當成獨立的參數傳給 print() 函式。\n",
    "tuple0 = (1 ,2 ,3 ,4 ,5)\n",
    "print(*tuple0)"
   ]
  },
  {
   "cell_type": "markdown",
   "id": "50113ab1",
   "metadata": {},
   "source": [
    "元組沒有刪除個別元素的方式 但可以刪除整組元組  \n",
    "del tuple0  \n",
    "print(tuple0)  "
   ]
  },
  {
   "cell_type": "code",
   "execution_count": 11,
   "id": "0942fe56",
   "metadata": {},
   "outputs": [
    {
     "ename": "NameError",
     "evalue": "name 'tuple0' is not defined",
     "output_type": "error",
     "traceback": [
      "\u001b[31m---------------------------------------------------------------------------\u001b[39m",
      "\u001b[31mNameError\u001b[39m                                 Traceback (most recent call last)",
      "\u001b[36mCell\u001b[39m\u001b[36m \u001b[39m\u001b[32mIn[11]\u001b[39m\u001b[32m, line 3\u001b[39m\n\u001b[32m      1\u001b[39m tuple0 = (\u001b[32m1\u001b[39m ,\u001b[32m2\u001b[39m ,\u001b[32m3\u001b[39m ,\u001b[32m4\u001b[39m ,\u001b[32m5\u001b[39m)\n\u001b[32m      2\u001b[39m \u001b[38;5;28;01mdel\u001b[39;00m tuple0  \n\u001b[32m----> \u001b[39m\u001b[32m3\u001b[39m \u001b[38;5;28mprint\u001b[39m(\u001b[43mtuple0\u001b[49m) \u001b[38;5;66;03m#被刪除 所以不存在\u001b[39;00m\n",
      "\u001b[31mNameError\u001b[39m: name 'tuple0' is not defined"
     ]
    }
   ],
   "source": [
    "tuple0 = (1 ,2 ,3 ,4 ,5)\n",
    "del tuple0  \n",
    "print(tuple0) #被刪除 所以不存在"
   ]
  }
 ],
 "metadata": {
  "kernelspec": {
   "display_name": "Python 3",
   "language": "python",
   "name": "python3"
  },
  "language_info": {
   "codemirror_mode": {
    "name": "ipython",
    "version": 3
   },
   "file_extension": ".py",
   "mimetype": "text/x-python",
   "name": "python",
   "nbconvert_exporter": "python",
   "pygments_lexer": "ipython3",
   "version": "3.13.7"
  }
 },
 "nbformat": 4,
 "nbformat_minor": 5
}
