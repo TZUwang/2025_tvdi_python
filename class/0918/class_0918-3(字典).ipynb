{
 "cells": [
  {
   "cell_type": "markdown",
   "id": "7cce47c6",
   "metadata": {},
   "source": [
    "### 字典(dictionary)\n",
    "<sub>類似集合 也使用大括號，與串列 元組 集合不同點:每個元素內容都是由一個鍵值(key)與數值(value)組成的數對 {鍵:值}  \n",
    "字典的索引值就是 key 出來的結果就是 value"
   ]
  },
  {
   "cell_type": "markdown",
   "id": "dde122e0",
   "metadata": {},
   "source": [
    "<sub>透過大括號建立字典，若大括號內容是空的，表示建立一個空的字典"
   ]
  },
  {
   "cell_type": "code",
   "execution_count": 3,
   "id": "800c03f1",
   "metadata": {},
   "outputs": [
    {
     "name": "stdout",
     "output_type": "stream",
     "text": [
      "{}\n"
     ]
    }
   ],
   "source": [
    "dic0 = {} #建立一個空字典\n",
    "print (dic0)"
   ]
  },
  {
   "cell_type": "markdown",
   "id": "0b493e59",
   "metadata": {},
   "source": [
    "<sub>指定內容 以城市當作鍵值，地標為內容數值"
   ]
  },
  {
   "cell_type": "code",
   "execution_count": 8,
   "id": "82c11d6e",
   "metadata": {},
   "outputs": [
    {
     "name": "stdout",
     "output_type": "stream",
     "text": [
      "{'Taipei': '101', 'Paris': 'Tour Eiffel', 'London': 'Big Ben'}\n"
     ]
    }
   ],
   "source": [
    "dic1 = {'Taipei':'101', 'Paris':'Tour Eiffel', 'London':'Big Ben'}\n",
    "print (dic1)"
   ]
  },
  {
   "cell_type": "markdown",
   "id": "3ca9a527",
   "metadata": {},
   "source": [
    "<sub>資料建立後要新增一筆資料 要透過鍵值與數值的對應新增"
   ]
  },
  {
   "cell_type": "code",
   "execution_count": 7,
   "id": "99151792",
   "metadata": {},
   "outputs": [
    {
     "name": "stdout",
     "output_type": "stream",
     "text": [
      "{'Taipei': '101', 'Paris': 'Tour Eiffel', 'London': 'Big Ben', 'Berlin': 'Wall'}\n"
     ]
    }
   ],
   "source": [
    "dic1 = {'Taipei':'101', 'Paris':'Tour Eiffel', 'London':'Big Ben'}\n",
    "dic1['Berlin'] = 'Wall'\n",
    "print(dic1)"
   ]
  },
  {
   "cell_type": "markdown",
   "id": "b0e2ce81",
   "metadata": {},
   "source": [
    "<sub>利用鍵值取得資料，比透過索引碼容易識別"
   ]
  },
  {
   "cell_type": "code",
   "execution_count": 9,
   "id": "faa2c741",
   "metadata": {},
   "outputs": [
    {
     "name": "stdout",
     "output_type": "stream",
     "text": [
      "Tour Eiffel\n"
     ]
    }
   ],
   "source": [
    "dic1 = {'Taipei':'101', 'Paris':'Tour Eiffel', 'London':'Big Ben', 'Berlin': 'Wall'}\n",
    "print(dic1['Paris'])"
   ]
  },
  {
   "cell_type": "markdown",
   "id": "499327dc",
   "metadata": {},
   "source": [
    "<sub>透過for迴圈輸出數對資料"
   ]
  },
  {
   "cell_type": "code",
   "execution_count": 17,
   "id": "e00a1ca4",
   "metadata": {},
   "outputs": [
    {
     "name": "stdout",
     "output_type": "stream",
     "text": [
      "Taipei 101\n",
      "Paris Tour Eiffel\n",
      "London Big Ben\n",
      "Berlin Wall\n"
     ]
    }
   ],
   "source": [
    "dic1 = {'Taipei':'101', 'Paris':'Tour Eiffel', 'London':'Big Ben', 'Berlin': 'Wall'}\n",
    "\n",
    "for i in dic1:\n",
    "    print(i,dic1[i])"
   ]
  },
  {
   "cell_type": "markdown",
   "id": "89b073b0",
   "metadata": {},
   "source": [
    "<sub>將鍵值排序傳回"
   ]
  },
  {
   "cell_type": "code",
   "execution_count": 15,
   "id": "19085607",
   "metadata": {},
   "outputs": [
    {
     "name": "stdout",
     "output_type": "stream",
     "text": [
      "Berlin Wall\n",
      "London Big Ben\n",
      "Paris Tour Eiffel\n",
      "Taipei 101\n"
     ]
    }
   ],
   "source": [
    "lst =  ['Berlin', 'London', 'Paris', 'Taipei']\n",
    "lst = sorted(dic1) #將\"鍵值\"排序後存到串列\n",
    "\n",
    "for i in lst:\n",
    "    print(i,dic1[i])"
   ]
  },
  {
   "cell_type": "markdown",
   "id": "71ef45f9",
   "metadata": {},
   "source": [
    "<sub>與集合一樣 資料組內容相同 不限順序 就相等"
   ]
  },
  {
   "cell_type": "code",
   "execution_count": 16,
   "id": "1d22b28d",
   "metadata": {},
   "outputs": [
    {
     "name": "stdout",
     "output_type": "stream",
     "text": [
      "兩個字典相等： True\n",
      "兩個字典不等： False\n"
     ]
    }
   ],
   "source": [
    "dicA = {10:'John',30:'Peter',20:'Mary'}\n",
    "dicB = {10:'John',20:'Mary',30:'Peter'}\n",
    "\n",
    "a = dicA == dicB\n",
    "print('兩個字典相等：',a)\n",
    "\n",
    "a = dicA != dicB\n",
    "print('兩個字典不等：',a)\n"
   ]
  },
  {
   "cell_type": "markdown",
   "id": "86925f5d",
   "metadata": {},
   "source": [
    "<sub>可以使用 len 來計算字典內有多少項目，利用in 和 not in 判斷某一鍵值是否存在於字典中"
   ]
  },
  {
   "cell_type": "code",
   "execution_count": 21,
   "id": "279dd0d3",
   "metadata": {},
   "outputs": [
    {
     "name": "stdout",
     "output_type": "stream",
     "text": [
      "4\n",
      "True\n",
      "False\n"
     ]
    }
   ],
   "source": [
    "dic1 = {'Taipei':'101', 'Paris':'Tour Eiffel', 'London':'Big Ben', 'Berlin': 'Wall'}\n",
    "\n",
    "a = len(dic1)\n",
    "print(a)\n",
    "\n",
    "a = 'Taipei' in dic1\n",
    "print(a)\n",
    "\n",
    "a = 'Taipei' not in dic1\n",
    "print(a)\n"
   ]
  },
  {
   "cell_type": "markdown",
   "id": "84efaf61",
   "metadata": {},
   "source": [
    "<sub>可以透過del 刪除特定內容"
   ]
  },
  {
   "cell_type": "code",
   "execution_count": null,
   "id": "33b034c0",
   "metadata": {},
   "outputs": [
    {
     "name": "stdout",
     "output_type": "stream",
     "text": [
      "{'Paris': 'Tour Eiffel', 'London': 'Big Ben', 'Berlin': 'Wall'}\n"
     ]
    }
   ],
   "source": [
    "dic1 = {'Taipei':'101', 'Paris':'Tour Eiffel', 'London':'Big Ben', 'Berlin': 'Wall'}\n",
    "\n",
    "del dic1['Taipei']\n",
    "print(dic1)\n",
    "\n",
    "#del dic1 直接刪除整個字典"
   ]
  },
  {
   "cell_type": "markdown",
   "id": "5d20bc9a",
   "metadata": {},
   "source": [
    "##### 專門檢查與調用字典內容的功能  \n",
    "<sub>1.keys()  \n",
    "2.values()  \n",
    "3.items()  \n"
   ]
  },
  {
   "cell_type": "code",
   "execution_count": null,
   "id": "b57d0682",
   "metadata": {},
   "outputs": [
    {
     "name": "stdout",
     "output_type": "stream",
     "text": [
      "dict_keys(['Taipei', 'Paris', 'London', 'Berlin'])\n",
      "dict_values(['101', 'Tour Eiffel', 'Big Ben', 'Wall'])\n",
      "dict_items([('Taipei', '101'), ('Paris', 'Tour Eiffel'), ('London', 'Big Ben'), ('Berlin', 'Wall')])\n"
     ]
    }
   ],
   "source": [
    "dic1 = {'Taipei':'101', 'Paris':'Tour Eiffel', 'London':'Big Ben', 'Berlin': 'Wall'}\n",
    "\n",
    "print(dic1.keys())   #印出鍵值\n",
    "print(dic1.values()) #印出數值\n",
    "print(dic1.items())  #將資料組轉換為元組"
   ]
  },
  {
   "cell_type": "markdown",
   "id": "4ae653be",
   "metadata": {},
   "source": [
    "<sub>將結果輸入到tuple"
   ]
  },
  {
   "cell_type": "code",
   "execution_count": 31,
   "id": "ca2d75a7",
   "metadata": {},
   "outputs": [
    {
     "name": "stdout",
     "output_type": "stream",
     "text": [
      "('Taipei', 'Paris', 'London', 'Berlin')\n",
      "('101', 'Tour Eiffel', 'Big Ben', 'Wall')\n",
      "(('Taipei', '101'), ('Paris', 'Tour Eiffel'), ('London', 'Big Ben'), ('Berlin', 'Wall'))\n"
     ]
    }
   ],
   "source": [
    "dic1 = {'Taipei':'101', 'Paris':'Tour Eiffel', 'London':'Big Ben', 'Berlin': 'Wall'}\n",
    "\n",
    "print(tuple(dic1.keys())) #轉為原組\n",
    "print(tuple(dic1.values()))\n",
    "print(tuple(dic1.items())) #變成二維串列"
   ]
  },
  {
   "cell_type": "markdown",
   "id": "1726ad6c",
   "metadata": {},
   "source": [
    "<sub>透過pop() 刪除某一鍵值的項目  \n",
    "popitem()表示刪除字典中最後一個項目  \n",
    "clear()表示清除字典中所有項目"
   ]
  },
  {
   "cell_type": "code",
   "execution_count": null,
   "id": "1b559b5e",
   "metadata": {},
   "outputs": [
    {
     "name": "stdout",
     "output_type": "stream",
     "text": [
      "{'Taipei': '101', 'Paris': 'Tour Eiffel', 'Berlin': 'Wall'}\n",
      "{'Taipei': '101', 'Paris': 'Tour Eiffel'}\n",
      "{'Taipei': '101', 'Paris': 'Tour Eiffel'}\n",
      "{'Taipei': '202', 'Paris': 'Tour Eiffel'}\n",
      "{}\n"
     ]
    }
   ],
   "source": [
    "dic1 = {'Taipei':'101', 'Paris':'Tour Eiffel', 'London':'Big Ben', 'Berlin': 'Wall'}\n",
    "\n",
    "dic1.pop('London') #刪除對應的資料組\n",
    "print(dic1)\n",
    "\n",
    "dic1.popitem() #刪除最後一筆資料組\n",
    "print(dic1)\n",
    "\n",
    "dic1['Taipei'] = '101' #若新增已有相同資料組則不會重複\n",
    "print(dic1)\n",
    "\n",
    "dic1['Taipei'] = '202' #若新增已有鍵值但數值不同則會覆蓋原有的相同鍵值\n",
    "print(dic1)\n",
    "\n",
    "dic1.clear() #清空字典內的所有內容 剩空字典\n",
    "print(dic1)"
   ]
  },
  {
   "cell_type": "markdown",
   "id": "207dd809",
   "metadata": {},
   "source": [
    "<sub>複製 copy() 與合併更新 update()"
   ]
  },
  {
   "cell_type": "code",
   "execution_count": 40,
   "id": "943cdd27",
   "metadata": {},
   "outputs": [
    {
     "name": "stdout",
     "output_type": "stream",
     "text": [
      "{1: '紅', 2: '黃', 3: '綠', 4: '黑'}\n",
      "{1: '白', 2: '黃', 3: '綠', 4: '黑', 6: '紫', 9: '橙'}\n"
     ]
    }
   ],
   "source": [
    "dicA = {1:'紅' ,2:'黃' ,3:'綠' ,4:'黑'}\n",
    "dicB = {6:'紫' ,9:'橙' ,1:'白'}\n",
    "dicC = {7:'灰'}\n",
    "\n",
    "dicC = dicA.copy() #將dicA複製到dicC 會直接蓋過原有的\n",
    "print(dicC)\n",
    "\n",
    "dicA.update(dicB) #將dicB更新到dicA 若有相同鍵值後面資料會覆蓋原資料 沒有的會直接補上\n",
    "print(dicA)"
   ]
  }
 ],
 "metadata": {
  "kernelspec": {
   "display_name": "Python 3",
   "language": "python",
   "name": "python3"
  },
  "language_info": {
   "codemirror_mode": {
    "name": "ipython",
    "version": 3
   },
   "file_extension": ".py",
   "mimetype": "text/x-python",
   "name": "python",
   "nbconvert_exporter": "python",
   "pygments_lexer": "ipython3",
   "version": "3.13.7"
  }
 },
 "nbformat": 4,
 "nbformat_minor": 5
}
