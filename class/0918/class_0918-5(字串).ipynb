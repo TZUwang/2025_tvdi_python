{
 "cells": [
  {
   "cell_type": "markdown",
   "id": "3dd1d188",
   "metadata": {},
   "source": [
    "#### 字串(string)"
   ]
  },
  {
   "cell_type": "markdown",
   "id": "4eaf3afe",
   "metadata": {},
   "source": [
    "<sub>建立空字串"
   ]
  },
  {
   "cell_type": "code",
   "execution_count": 2,
   "id": "9471d56c",
   "metadata": {},
   "outputs": [
    {
     "name": "stdout",
     "output_type": "stream",
     "text": [
      "s1=  s2= \n"
     ]
    }
   ],
   "source": [
    "s1 = ''  #空字串\n",
    "# s1 = ' ' 空白字串 長度為1 不等於空字串\n",
    "s2 = str()\n",
    "\n",
    "print('s1=',s1,'s2=',s2)"
   ]
  },
  {
   "cell_type": "markdown",
   "id": "7aa508a1",
   "metadata": {},
   "source": [
    "<sub>字串運作"
   ]
  },
  {
   "cell_type": "code",
   "execution_count": 5,
   "id": "6b41ef89",
   "metadata": {},
   "outputs": [
    {
     "name": "stdout",
     "output_type": "stream",
     "text": [
      "s3 =  Lerning now! Lerning now! Lerning now!  \n",
      "s4 =  5278696969\n",
      "Lerning now! Lerning now! Lerning now! 5278696969\n"
     ]
    }
   ],
   "source": [
    "s3 = 'Lerning now! Lerning now! Lerning now! '\n",
    "s4 = str(5278696969) #要將數字轉成字串才可以相加\n",
    "print('s3 = ',s3,'\\ns4 = ',s4)\n",
    "\n",
    "s0 = s3 + s4\n",
    "print(s0)"
   ]
  },
  {
   "cell_type": "markdown",
   "id": "370e2cf7",
   "metadata": {},
   "source": [
    "<sub>字串長度、取得字串內字元最大值與最小值"
   ]
  },
  {
   "cell_type": "code",
   "execution_count": null,
   "id": "a266720a",
   "metadata": {},
   "outputs": [
    {
     "name": "stdout",
     "output_type": "stream",
     "text": [
      "s3字串長度： 20 \n",
      "字串內最大值： y \n",
      "字串內最小值：  \n"
     ]
    }
   ],
   "source": [
    "s3 = 'Lerning Python now! '\n",
    "\n",
    "a = len(s3) #長度為20\n",
    "b = max(s3) #最大值為y\n",
    "c = min(s3) #最小值是空格\n",
    "\n",
    "print('s3字串長度：',a,'\\n字串內最大值：',b,'\\n字串內最小值：',c)"
   ]
  },
  {
   "cell_type": "markdown",
   "id": "9be400d7",
   "metadata": {},
   "source": [
    "<sub>索引時運用中括號 [ ] 括號內為索引值，在字串中，使用方式相同"
   ]
  },
  {
   "cell_type": "code",
   "execution_count": null,
   "id": "43e0cd61",
   "metadata": {},
   "outputs": [
    {
     "name": "stdout",
     "output_type": "stream",
     "text": [
      "字串中索引值3的字元： n \n",
      "索引值-2的字元： ! \n",
      "索引值-8的字元： o\n"
     ]
    }
   ],
   "source": [
    "s3 = 'Lerning Python now! '\n",
    "\n",
    "a = s3[3]\n",
    "b = s3[-2] #與串列相同，索引值可以由後向前計算，同樣要注意的是，最後一個字元索引值為 -1\n",
    "c = s3[-8]\n",
    "print ('字串中索引值3的字元：',a,'\\n索引值-2的字元：',b,'\\n索引值-8的字元：',c)"
   ]
  },
  {
   "cell_type": "markdown",
   "id": "ecd033c0",
   "metadata": {},
   "source": [
    "<sub>需要索引特定字串中特定區域，[ start:end ]"
   ]
  },
  {
   "cell_type": "code",
   "execution_count": 10,
   "id": "0103751b",
   "metadata": {},
   "outputs": [
    {
     "name": "stdout",
     "output_type": "stream",
     "text": [
      "索引值[8:14]： Python\n",
      "索引值[:7]： Lerning\n",
      "索引值[15:]： now! \n"
     ]
    }
   ],
   "source": [
    "s3 = 'Lerning Python now! '\n",
    "\n",
    "a = s3[8:14] #索引值為8到13的值\n",
    "b = s3[:7]   #索引值6以前的所有\n",
    "c = s3[15:]  #索引值15之後的所有\n",
    "\n",
    "print('索引值[8:14]：',a)\n",
    "print('索引值[:7]：',b)\n",
    "print('索引值[15:]：',c)\n"
   ]
  },
  {
   "cell_type": "markdown",
   "id": "7018aec0",
   "metadata": {},
   "source": [
    "<sub>字串連結使用 + 號 ，字串複製使用 *號"
   ]
  },
  {
   "cell_type": "code",
   "execution_count": 12,
   "id": "a5979d8d",
   "metadata": {},
   "outputs": [
    {
     "name": "stdout",
     "output_type": "stream",
     "text": [
      "Lerning Python now! \n",
      "Lerning Python now! Lerning Python now! \n"
     ]
    }
   ],
   "source": [
    "d = b +' '+ a + \" \" + c #上面將a b c從s3中抓出來 現在拼回去\n",
    "print (d)\n",
    "\n",
    "d = 2 * d\n",
    "print (d)"
   ]
  },
  {
   "cell_type": "markdown",
   "id": "c758050a",
   "metadata": {},
   "source": [
    "<sub>使用join 連結容器內容資料"
   ]
  },
  {
   "cell_type": "code",
   "execution_count": 25,
   "id": "da5733b6",
   "metadata": {},
   "outputs": [
    {
     "name": "stdout",
     "output_type": "stream",
     "text": [
      "7788 + 6655 + 5566 + 8787 + 9264 + 5278 + 9527 =\n",
      "52865\n",
      "7788 + 6655 + 5566 + 8787 + 9264 + 5278 + 9527 = 52865\n"
     ]
    }
   ],
   "source": [
    "A = ('7788', '6655', '5566', '8787', '9264', '5278', '9527')\n",
    "\n",
    "print(' + '.join(A),'=')\n",
    "print(eval('+'.join(A))) #將\" + \"與tuple內容串接並計算\n",
    "\n",
    "#所以可以合併\n",
    "print(' + '.join(A),'=',end = ' ')\n",
    "print(eval('+'.join(A)))"
   ]
  },
  {
   "cell_type": "markdown",
   "id": "de1153db",
   "metadata": {},
   "source": [
    "<sub>檢視一段字串或一個字元，是否存在目標的字串中，使用 in ，not in"
   ]
  },
  {
   "cell_type": "code",
   "execution_count": 27,
   "id": "d8c34532",
   "metadata": {},
   "outputs": [
    {
     "name": "stdout",
     "output_type": "stream",
     "text": [
      "L1: True L2: False\n"
     ]
    }
   ],
   "source": [
    "s3 = 'Lerning Python now! '\n",
    "\n",
    "L1 = a in s3\n",
    "L2 = b not in s3\n",
    "print('L1:',L1 , 'L2:',L2)"
   ]
  },
  {
   "cell_type": "markdown",
   "id": "23254fe2",
   "metadata": {},
   "source": [
    "<sub>檢查字元ASCII碼"
   ]
  },
  {
   "cell_type": "code",
   "execution_count": 34,
   "id": "f8199398",
   "metadata": {},
   "outputs": [
    {
     "name": "stdout",
     "output_type": "stream",
     "text": [
      "P 的ASCII碼為 80\n"
     ]
    }
   ],
   "source": [
    "x = ord(s3[8])\n",
    "print(f\"{s3[8]} 的ASCII碼為 {x}\")"
   ]
  },
  {
   "cell_type": "code",
   "execution_count": 35,
   "id": "42bab265",
   "metadata": {},
   "outputs": [
    {
     "name": "stdout",
     "output_type": "stream",
     "text": [
      "ASCII碼值80是 字母 P\n"
     ]
    }
   ],
   "source": [
    "y = chr(x)\n",
    "print(f'ASCII碼值{x}是 字母 {y}')"
   ]
  },
  {
   "cell_type": "markdown",
   "id": "1b781cb7",
   "metadata": {},
   "source": [
    "<sub>字串中字元也是可以逐一列印"
   ]
  },
  {
   "cell_type": "code",
   "execution_count": 46,
   "id": "5a129add",
   "metadata": {},
   "outputs": [
    {
     "name": "stdout",
     "output_type": "stream",
     "text": [
      "L e r n i n g   P y t h o n   n o w !   "
     ]
    }
   ],
   "source": [
    "for i in s3:\n",
    "    print(i,end = ' ')"
   ]
  },
  {
   "cell_type": "code",
   "execution_count": 45,
   "id": "bebae2fa",
   "metadata": {},
   "outputs": [
    {
     "name": "stdout",
     "output_type": "stream",
     "text": [
      "L e r n i n g   P y t h o n   n o w !   "
     ]
    }
   ],
   "source": [
    "#第二種列印方式 字典無法\n",
    "for i in range (len(s3)):\n",
    "    print(s3[i],end = ' ')"
   ]
  },
  {
   "cell_type": "markdown",
   "id": "ed51385a",
   "metadata": {},
   "source": [
    "#####  子字串\n",
    "| 方法 | 說明 |\n",
    "| --- | --- |\n",
    "| endswith(s1) | 字串尾端是否為s1的內容，是則傳回True |\n",
    "| startswith(s1) | 字串前端是否為s1的內容，是則傳回True |\n",
    "| find(s1) | 字串中出現s1時，傳回最小索引碼 |\n",
    "| rfind(s1) | 字串中出現s1時，傳回最大索引碼 |\n",
    "| count(s1) | 計算字串中出現s1的個數 |"
   ]
  },
  {
   "cell_type": "code",
   "execution_count": 55,
   "id": "cd9235a0",
   "metadata": {},
   "outputs": [
    {
     "name": "stdout",
     "output_type": "stream",
     "text": [
      "s3最尾端是否為now! : {True} s3最前端是否為Lerning: {True}\n"
     ]
    }
   ],
   "source": [
    "s3 = 'Lerning Python now! '\n",
    "z = 'now! '\n",
    "y = 'Lerning'\n",
    "\n",
    "a = s3.endswith(z)\n",
    "b = s3.startswith(y)\n",
    "print(f's3最尾端是否為now! :',{a},'s3最前端是否為Lerning:',{b})"
   ]
  },
  {
   "cell_type": "code",
   "execution_count": 57,
   "id": "75750f68",
   "metadata": {},
   "outputs": [
    {
     "name": "stdout",
     "output_type": "stream",
     "text": [
      "第一個出現的n的索引碼為：3, 最後一個出現的n的索引碼為：15, 共 4 個 n\n"
     ]
    }
   ],
   "source": [
    "c = s3.find('n')\n",
    "d = s3.rfind('n')\n",
    "e = s3.count('n')\n",
    "print(f'第一個出現的n的索引碼為：{c}, 最後一個出現的n的索引碼為：{d}, 共 {e} 個 n')"
   ]
  },
  {
   "cell_type": "markdown",
   "id": "567c4187",
   "metadata": {},
   "source": [
    "##### 測試字串  \n",
    "| 方法 | 說明 | 原始程式碼 |\n",
    "| --- | --- | --- |\n",
    "| isalpha() | 字串字元全由字母所組成，傳回True | `my_string.isalpha()` |\n",
    "| isdigit() | 字串字元全由數字所組成，傳回True | `my_string.isdigit()` |\n",
    "| isalnum() | 字串字元由字母和數字組成，傳回True | `my_string.isalnum()` |\n",
    "| isidentifier() | 字串符合Python規範的識別字，傳回True | `my_string.isidentifier()` |\n",
    "| islower() | 字串英文字元由小寫組成，傳回True | `my_string.islower()` |\n",
    "| isupper() | 字串英文字元由大寫組成，傳回True | `my_string.isupper()` |\n",
    "| isspace() | 字串字元由空白組成，傳回True | `my_string.isspace()` |"
   ]
  },
  {
   "cell_type": "code",
   "execution_count": 58,
   "id": "6b8173fc",
   "metadata": {},
   "outputs": [
    {
     "name": "stdout",
     "output_type": "stream",
     "text": [
      "是否為英數字元組合 s5:True s6:False\n"
     ]
    }
   ],
   "source": [
    "s5 = 'Roger487'\n",
    "s6 = '羅傑高金生 8787'\n",
    "\n",
    "a = s5.isalnum()\n",
    "b = s6.isalnum()\n",
    "\n",
    "print(f'是否為英數字元組合 s5:{a} s6:{b}')"
   ]
  },
  {
   "cell_type": "code",
   "execution_count": 60,
   "id": "902c861c",
   "metadata": {},
   "outputs": [
    {
     "name": "stdout",
     "output_type": "stream",
     "text": [
      "是否為英文字母組合 s7:True s8:False\n"
     ]
    }
   ],
   "source": [
    "s7 = 'nlnlouo'\n",
    "s8 = '9527qqq7414'\n",
    "a = s7.isalpha()\n",
    "b = s8.isalpha()\n",
    "\n",
    "print(f'是否為英文字母組合 s7:{a} s8:{b}')"
   ]
  },
  {
   "cell_type": "code",
   "execution_count": 61,
   "id": "df28ebcf",
   "metadata": {},
   "outputs": [
    {
     "name": "stdout",
     "output_type": "stream",
     "text": [
      "是否為純數字組合 s9:True s10:False\n"
     ]
    }
   ],
   "source": [
    "s9 = '82788282'\n",
    "s10 = 'AAAAAAA9527'\n",
    "\n",
    "a = s9.isdigit()\n",
    "b = s10.isdigit()\n",
    "print(f'是否為純數字組合 s9:{a} s10:{b}')\n"
   ]
  },
  {
   "cell_type": "code",
   "execution_count": 62,
   "id": "c52b62d3",
   "metadata": {},
   "outputs": [
    {
     "name": "stdout",
     "output_type": "stream",
     "text": [
      "True, False, False, True\n"
     ]
    }
   ],
   "source": [
    "s1 = 'abcde'\n",
    "s2 = 'ABCDE'\n",
    "a = s1.islower()\n",
    "b = s2.islower()\n",
    "c = s1.isupper()\n",
    "d = s2.isupper()\n",
    "print(f'{a}, {b}, {c}, {d}')"
   ]
  },
  {
   "cell_type": "code",
   "execution_count": 63,
   "id": "741178e1",
   "metadata": {},
   "outputs": [
    {
     "name": "stdout",
     "output_type": "stream",
     "text": [
      "s2是否為純空白字元:True\n"
     ]
    }
   ],
   "source": [
    "s2 = \"      \"\n",
    "c = s2.isspace()\n",
    "print (f\"s2是否為純空白字元:{c}\")\n"
   ]
  },
  {
   "cell_type": "code",
   "execution_count": 65,
   "id": "6eccb91d",
   "metadata": {},
   "outputs": [
    {
     "name": "stdout",
     "output_type": "stream",
     "text": [
      "998877qqq是否可以作為合法的識別字:False\n"
     ]
    }
   ],
   "source": [
    "a = input(\"識別字：\")\n",
    "print(f'998877qqq是否可以作為合法的識別字:{a.isidentifier()}')  #判斷字串是否可作為合法的識別字 (英文字母開頭 不能為數字 不能有特殊符號與空格 可以有底線)"
   ]
  },
  {
   "cell_type": "markdown",
   "id": "cb524be2",
   "metadata": {},
   "source": [
    "##### 字串轉換"
   ]
  },
  {
   "cell_type": "markdown",
   "id": "874afcb0",
   "metadata": {},
   "source": [
    "| 方法 | 說明 | 原始程式碼 |\n",
    "| --- | --- | --- |\n",
    "| capitalize() | 把字串第一個字元轉為大寫，其他轉為小寫後回傳 | `my_string.capitalize()` |\n",
    "| lower() | 把字串中所有字元轉為小寫後回傳 | `my_string.lower()` |\n",
    "| upper() | 把字串中所有字元轉為大寫後回傳 | `my_string.upper()` |\n",
    "| title() | 將字串中每一個英文字第一個字元轉換為大寫，其餘字元轉換為小寫後回傳 | `my_string.title()` |\n",
    "| swapcase() | 將字串中大寫轉為小寫，小寫轉為大寫後回傳 | `my_string.swapcase()` |\n",
    "| replace(old, new) | 將old字串以new字串取代 | `my_string.replace(old, new)` |"
   ]
  },
  {
   "cell_type": "code",
   "execution_count": 66,
   "id": "4d948a69",
   "metadata": {},
   "outputs": [
    {
     "name": "stdout",
     "output_type": "stream",
     "text": [
      "Lerning Python_Ver3.3 now!\n"
     ]
    }
   ],
   "source": [
    "s87 = 'Lerning Python now!'\n",
    "s87 = s87.replace('Python','Python_Ver3.3')# 改換字串\n",
    "print(s87)"
   ]
  },
  {
   "cell_type": "code",
   "execution_count": 72,
   "id": "fff7359a",
   "metadata": {},
   "outputs": [
    {
     "name": "stdout",
     "output_type": "stream",
     "text": [
      "ltk7788 stubit guy is gay!\n",
      "LTK7788 STUBIT GUY IS GAY!\n",
      "Ltk7788 stubit guy is gay!\n",
      "Ltk7788 Stubit Guy Is Gay!\n",
      "lTK7788 sTUBIT gUY iS gAY!\n"
     ]
    }
   ],
   "source": [
    "s69 ='ltk7788 Stubit guy is GAY!'\n",
    "\n",
    "s69 = s69.lower() #字串全部改為小寫\n",
    "print(s69)\n",
    "\n",
    "s69 = s69.upper()  #字串全部改為大寫\n",
    "print(s69)\n",
    "\n",
    "s69 = s69.capitalize()  #第一個字元改為大寫，其他改為小寫\n",
    "print(s69)\n",
    "\n",
    "s69 = s69.title() #字串內每個英文字第一個字母大寫\n",
    "print(s69)\n",
    "\n",
    "s69 = s69.swapcase() #字串內所有大小寫交換\n",
    "print(s69)\n"
   ]
  },
  {
   "cell_type": "markdown",
   "id": "7cada063",
   "metadata": {},
   "source": [
    "#####  去除字串頭尾空白\n",
    "| 方法 | 說明 | 原始程式碼 |\n",
    "| --- | --- | --- |\n",
    "| lstrip() | 刪除字串左側空白後回傳 | `my_string.lstrip()` |\n",
    "| rstrip() | 刪除字串右側空白後回傳 | `my_string.rstrip()` |\n",
    "| strip() | 刪除字串兩側空白後回傳 | `my_string.strip()` |"
   ]
  },
  {
   "cell_type": "code",
   "execution_count": 81,
   "id": "197b003a",
   "metadata": {},
   "outputs": [
    {
     "name": "stdout",
     "output_type": "stream",
     "text": [
      "   ltk7788 Stubit guy is GAY!   ??\n",
      "ltk7788 Stubit guy is GAY!   ??\n"
     ]
    }
   ],
   "source": [
    "s3 ='ltk7788 Stubit guy is GAY!'\n",
    "\n",
    "s3 = \"   \"+ s3 + \"   \"\n",
    "print(s3+'??')\n",
    "\n",
    "s3 = s3.lstrip() #字串左側空白沒了\n",
    "print(s3+'??') \n"
   ]
  },
  {
   "cell_type": "code",
   "execution_count": 82,
   "id": "4e6abd08",
   "metadata": {},
   "outputs": [
    {
     "name": "stdout",
     "output_type": "stream",
     "text": [
      "   ltk7788 Stubit guy is GAY!??\n"
     ]
    }
   ],
   "source": [
    "s3 = \"   \"+ s3 + \"   \"\n",
    "s3 = s3.rstrip() #字串右側空白沒了\n",
    "print(s3+'??')"
   ]
  },
  {
   "cell_type": "code",
   "execution_count": null,
   "id": "632a1ddf",
   "metadata": {},
   "outputs": [
    {
     "name": "stdout",
     "output_type": "stream",
     "text": [
      "ltk7788 Stubit guy is GAY!??\n"
     ]
    }
   ],
   "source": [
    "s3 = \"   \"+ s3 + \"   \"\n",
    "s3 = s3.strip() #字串左右側空白都沒了\n",
    "print(s3+'??')"
   ]
  },
  {
   "cell_type": "markdown",
   "id": "6be24732",
   "metadata": {},
   "source": [
    "####  字串依照格式排列\n",
    "| 方法 | 說明 | 原始程式碼 |\n",
    "| --- | --- | --- |\n",
    "| center(width) | 在width的欄位寬下向中靠齊，加以回傳 | `my_string.center(width)` |\n",
    "| ljust(width) | 在width的欄位寬下向左靠齊，加以回傳 | `my_string.ljust(width)` |\n",
    "| rjust(width) | 在width的欄位寬下向右靠齊，加以回傳 | `my_string.rjust(width)` |"
   ]
  },
  {
   "cell_type": "code",
   "execution_count": 88,
   "id": "f547e3de",
   "metadata": {},
   "outputs": [
    {
     "name": "stdout",
     "output_type": "stream",
     "text": [
      "    827869697414    .\n"
     ]
    }
   ],
   "source": [
    "s88 = '827869697414'\n",
    "\n",
    "s88 = s88.center(20)\n",
    "print(s88+'.')\n"
   ]
  },
  {
   "cell_type": "code",
   "execution_count": 89,
   "id": "07a9fcf1",
   "metadata": {},
   "outputs": [
    {
     "name": "stdout",
     "output_type": "stream",
     "text": [
      "827869697414        .\n"
     ]
    }
   ],
   "source": [
    "s88 = '827869697414'\n",
    "\n",
    "s88 = s88.ljust(20)\n",
    "print(s88+'.')"
   ]
  },
  {
   "cell_type": "code",
   "execution_count": 91,
   "id": "0e4581ea",
   "metadata": {},
   "outputs": [
    {
     "name": "stdout",
     "output_type": "stream",
     "text": [
      "        827869697414.\n"
     ]
    }
   ],
   "source": [
    "s88 = '827869697414'\n",
    "\n",
    "s88 = s88.rjust(20)\n",
    "print(s88+'.')"
   ]
  },
  {
   "cell_type": "markdown",
   "id": "97418490",
   "metadata": {},
   "source": [
    "#### 分割字串\n",
    "<sub>使用split()這個方法，將字串拆分"
   ]
  },
  {
   "cell_type": "code",
   "execution_count": 92,
   "id": "f771e812",
   "metadata": {},
   "outputs": [
    {
     "name": "stdout",
     "output_type": "stream",
     "text": [
      "lst1 =  ['2025', '05', '14']\n",
      "lst2 =  ['02', '0908070605', '2654']\n",
      "lst3 =  ['牛', '馬', '雞', '狗', '豬', '羊', '人']\n"
     ]
    }
   ],
   "source": [
    "s1 = '2025/05/14'\n",
    "s2 = '02-0908070605-2654'\n",
    "s3 = '牛 馬 雞 狗 豬 羊 人'\n",
    "\n",
    "lst1 = s1.split('/') #要使用引號 因為是字串\n",
    "lst2 = s2.split('-')\n",
    "lst3 = s3.split()\n",
    "print('lst1 = ',lst1)\n",
    "print('lst2 = ',lst2)\n",
    "print('lst3 = ',lst3)\n"
   ]
  },
  {
   "cell_type": "markdown",
   "id": "e4e8874d",
   "metadata": {},
   "source": [
    "<sub>依照換行內容切割方式"
   ]
  },
  {
   "cell_type": "code",
   "execution_count": 95,
   "id": "0179298a",
   "metadata": {},
   "outputs": [
    {
     "name": "stdout",
     "output_type": "stream",
     "text": [
      "lst0 =  ['89', '64', '78', '69', '87', '33']\n",
      "lst00 =  ['87', '78', '77', '66', '52', '99', '69', '88']\n"
     ]
    }
   ],
   "source": [
    "s4 = '89\\n64\\n78\\n69\\n87\\n33'\n",
    "\n",
    "lst0 = s4.splitlines()\n",
    "print('lst0 = ',lst0)\n",
    "\n",
    "#另一種方式直接用\\n字串去切 較優\n",
    "s5 = '87\\n78\\n77\\n66\\n52\\n99\\n69\\n88'\n",
    "lst00 = s5.split(\"\\n\")\n",
    "print('lst00 = ',lst00)"
   ]
  }
 ],
 "metadata": {
  "kernelspec": {
   "display_name": "Python 3",
   "language": "python",
   "name": "python3"
  },
  "language_info": {
   "codemirror_mode": {
    "name": "ipython",
    "version": 3
   },
   "file_extension": ".py",
   "mimetype": "text/x-python",
   "name": "python",
   "nbconvert_exporter": "python",
   "pygments_lexer": "ipython3",
   "version": "3.13.7"
  }
 },
 "nbformat": 4,
 "nbformat_minor": 5
}
