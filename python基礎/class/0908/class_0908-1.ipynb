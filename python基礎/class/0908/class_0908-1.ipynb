{
 "cells": [
  {
   "cell_type": "markdown",
   "id": "31b50674",
   "metadata": {},
   "source": [
    "二維串列  \n",
    "<sub>1.二維串列基本運用\n"
   ]
  },
  {
   "cell_type": "code",
   "execution_count": 4,
   "id": "f3b35b80",
   "metadata": {},
   "outputs": [
    {
     "name": "stdout",
     "output_type": "stream",
     "text": [
      "[[1, 2, 3], [44, 55, 66, 99, 55], [70, 80, 90], [4, 5, 6]]\n",
      "[70, 80, 90]\n",
      "66\n",
      "4\n",
      "5\n"
     ]
    }
   ],
   "source": [
    "list = [[1,2,3],[44,55,66,99,55],[70,80,90],[4,5,6]]\n",
    "\n",
    "print(list)            #印出二維串列內容\n",
    "print(list[2])         #印出二維串列索引值為2的內容 應為[70,80,90]\n",
    "print(list[1][2])      #印出二維串列中的特定位置值 索引值1的串列中的索引值為2的內容\n",
    "print(len(list))       #二維串列的列數\n",
    "print(len(list[1]))    #二維串列中第一列有多少元素"
   ]
  },
  {
   "cell_type": "markdown",
   "id": "89197118",
   "metadata": {},
   "source": [
    "<sub>2.二維串列中加入元素值"
   ]
  },
  {
   "cell_type": "code",
   "execution_count": 9,
   "id": "a1ad6abe",
   "metadata": {},
   "outputs": [
    {
     "name": "stdout",
     "output_type": "stream",
     "text": [
      "產生3個空串列後，每個空串列中產生6個隨機元素的結果會是:[[22, 42, 35, 5, 8, 41], [40, 2, 42, 41, 50, 22], [26, 22, 47, 36, 50, 27]]\n"
     ]
    }
   ],
   "source": [
    "import random\n",
    "\n",
    "lst = []\n",
    "\n",
    "#輸入列數、行數\n",
    "row = int(input('Enter the number of row: '))\n",
    "column = int(input('Enter the number of column: '))\n",
    "for i in range(0,row):\n",
    "    lst.append([])             #依照輸入的值 加入多少空串列\n",
    "    for j in range(0,column):  #依照輸入的值 在每一個空串列中產生多少元素\n",
    "        lst[i].append(random.randint(1,50))\n",
    "print(f'產生{row}個空串列後，每個空串列中產生{column}個隨機元素的結果會是:{lst}')"
   ]
  },
  {
   "cell_type": "markdown",
   "id": "5e25051f",
   "metadata": {},
   "source": [
    "<sub>3.列印二維串列所有元素  \n",
    "雙層迴圈可以處理二維串列內容值不論輸入或輸出，這幾個範例，都是外圈為 列 ，內圈為元素，先確認每列的值，每一列內容在內圈完成"
   ]
  },
  {
   "cell_type": "code",
   "execution_count": 23,
   "id": "179e02a8",
   "metadata": {},
   "outputs": [
    {
     "name": "stdout",
     "output_type": "stream",
     "text": [
      "A中[0][0]=69\n",
      "A中[0][1]=89\n",
      "A中[0][2]=78\n",
      "A中[1][0]=44\n",
      "A中[1][1]=33\n",
      "A中[1][2]=22\n"
     ]
    }
   ],
   "source": [
    "A = [[69, 89, 78], [44, 33, 22]]\n",
    "for i in range(len(A)): #外層迴圈：用來遍歷二維串列的「列」索引\n",
    "    for j in range(len(A[0])): #內層迴圈：用來遍歷目前這一列中的「行」索引\n",
    "        print(f'A中[{i}][{j}]={A[i][j]}')"
   ]
  },
  {
   "cell_type": "code",
   "execution_count": null,
   "id": "b368c169",
   "metadata": {},
   "outputs": [
    {
     "name": "stdout",
     "output_type": "stream",
     "text": [
      "  69  89  78\n",
      "  44  33  22\n",
      "  91  98  46\n",
      "  70  80  90\n"
     ]
    }
   ],
   "source": [
    "#較簡潔的方式列印所有元素內容\n",
    "B = [[69, 89, 78], [44, 33, 22], [91, 98, 46], [70, 80, 90]]\n",
    "for row in B:\n",
    "    for i in row:\n",
    "        print('%4d'%i,end ='')\n",
    "    print()\n"
   ]
  },
  {
   "cell_type": "code",
   "execution_count": 36,
   "id": "4f730216",
   "metadata": {},
   "outputs": [
    {
     "name": "stdout",
     "output_type": "stream",
     "text": [
      "  69  89  78\n",
      "  44  33  22\n",
      "  91  98  46\n",
      "  70  80  90\n"
     ]
    }
   ],
   "source": [
    "#上面使用串列專用的for迴圈，若採用一般迴圈寫法 能得出一樣的結果\n",
    "B = [[69, 89, 78], [44, 33, 22], [91, 98, 46], [70, 80, 90]]\n",
    "\n",
    "for i in range(len(B)):\n",
    "    for j in range(len(B[i])):\n",
    "        print('%4d'%B[i][j],end='')\n",
    "    print()"
   ]
  },
  {
   "cell_type": "markdown",
   "id": "b9577c81",
   "metadata": {},
   "source": [
    "<sub>4.計算行、列和"
   ]
  },
  {
   "cell_type": "code",
   "execution_count": 39,
   "id": "a2583b36",
   "metadata": {},
   "outputs": [
    {
     "name": "stdout",
     "output_type": "stream",
     "text": [
      "第1行的總和是:236\n",
      "第2行的總和是:99\n",
      "第3行的總和是:235\n",
      "第4行的總和是:240\n"
     ]
    }
   ],
   "source": [
    "B = [[69, 89, 78], [44, 33, 22], [91, 98, 46], [70, 80, 90]]\n",
    "\n",
    "for i in range(len(B)):\n",
    "    total = 0\n",
    "    for j in range(len(B[i])):\n",
    "        total += B[i][j]\n",
    "    print(f'第{i+1}行的總和是:{total}')"
   ]
  },
  {
   "cell_type": "code",
   "execution_count": 40,
   "id": "80359a2c",
   "metadata": {},
   "outputs": [
    {
     "name": "stdout",
     "output_type": "stream",
     "text": [
      "第4行的總和為:236\n",
      "第4行的總和為:99\n",
      "第4行的總和為:235\n",
      "第4行的總和為:240\n"
     ]
    }
   ],
   "source": [
    "#利用sum(list)這個函數，可以加總串列 (列) 每一個元素\n",
    "B = [[69, 89, 78], [44, 33, 22], [91, 98, 46], [70, 80, 90]]\n",
    "\n",
    "for row in range(len(B)):\n",
    "    total = 0\n",
    "    total = sum(B[row])\n",
    "    print(f'第{i+1}行的總和為:{total}')"
   ]
  }
 ],
 "metadata": {
  "kernelspec": {
   "display_name": "Python 3",
   "language": "python",
   "name": "python3"
  },
  "language_info": {
   "codemirror_mode": {
    "name": "ipython",
    "version": 3
   },
   "file_extension": ".py",
   "mimetype": "text/x-python",
   "name": "python",
   "nbconvert_exporter": "python",
   "pygments_lexer": "ipython3",
   "version": "3.13.7"
  }
 },
 "nbformat": 4,
 "nbformat_minor": 5
}
