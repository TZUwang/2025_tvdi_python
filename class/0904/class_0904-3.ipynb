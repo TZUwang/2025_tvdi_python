{
 "cells": [
  {
   "cell_type": "markdown",
   "id": "af6100d9",
   "metadata": {},
   "source": [
    "1.嘗試引入自製的函式"
   ]
  },
  {
   "cell_type": "code",
   "execution_count": null,
   "id": "dd93a69d",
   "metadata": {},
   "outputs": [],
   "source": [
    "import tempchange\n",
    "import total\n",
    "\n",
    "tempchange.main() # 呼叫 function001 模組中的 main() 函式\n",
    "total.main(7414)"
   ]
  },
  {
   "cell_type": "markdown",
   "id": "ec7b06ba",
   "metadata": {},
   "source": [
    "2.字串也可採用其他變數型態"
   ]
  },
  {
   "cell_type": "code",
   "execution_count": 1,
   "id": "fb0c680c",
   "metadata": {},
   "outputs": [
    {
     "name": "stdout",
     "output_type": "stream",
     "text": [
      "歡迎 QAQAQ\n"
     ]
    }
   ],
   "source": [
    "def welcome(name):\n",
    "    print(f'歡迎 {n}')\n",
    "n = input(\"請輸入你的名子\")\n",
    "\n",
    "welcome(n)"
   ]
  },
  {
   "cell_type": "markdown",
   "id": "4d61d490",
   "metadata": {},
   "source": [
    "3.函式的回傳值"
   ]
  },
  {
   "cell_type": "code",
   "execution_count": 2,
   "id": "15c766b7",
   "metadata": {},
   "outputs": [
    {
     "name": "stdout",
     "output_type": "stream",
     "text": [
      "從 5269 加到 7414 的總和為: 13608859\n"
     ]
    }
   ],
   "source": [
    "def total(a ,b): # 定義一個名為 total 的函式(function)\n",
    "    tol = 0\n",
    "    for i in range(a, b + 1):\n",
    "        tol += i\n",
    "    return tol # 回傳計算結果，而不是直接印出來\n",
    "\n",
    "def main(): # 定義一個名為 main 的主函式\n",
    "    c = int(input('請輸入起始值: '))\n",
    "    d = int(input('請輸入結束值: '))\n",
    "    t = total(c ,d) # 呼叫 total 函式，並將變數 c 和 d 作為參數傳入  函式回傳的結果會被存到變數 t 裡面\n",
    "    print(f'從 {c} 加到 {d} 的總和為: {t}')\n",
    "\n",
    "main()"
   ]
  },
  {
   "cell_type": "markdown",
   "id": "8b863d51",
   "metadata": {},
   "source": [
    "4.函式迴傳多個值"
   ]
  },
  {
   "cell_type": "code",
   "execution_count": null,
   "id": "f34b93df",
   "metadata": {},
   "outputs": [
    {
     "name": "stdout",
     "output_type": "stream",
     "text": [
      "從 5269 加到 7414 的總和為: 13608859\n",
      "從 5269 加到 7414 的平均為: 6341.50\n"
     ]
    }
   ],
   "source": [
    "def sumandavg(a,b):\n",
    "    tol = 0\n",
    "    for i in range(a,b+1):\n",
    "        tol += i\n",
    "    avg = tol / (b-a+1)\n",
    "    return tol,avg # 函式執行完後，回傳兩個結果：總和 tol 和 平均 avg\n",
    "\n",
    "def main():\n",
    "    c = int(input('請輸入起始值: '))\n",
    "    d = int(input('請輸入結束值: '))\n",
    "    t,a = sumandavg(c,d) # 把使用者輸入的 c 和 d 當作參數傳進去 函式會回傳兩個值，第一個值會被存到變數 t (total)，第二個值會被存到變數 a (average)\n",
    "    print(f'從 {c} 加到 {d} 的總和為: {t}')\n",
    "    print(f'從 {c} 加到 {d} 的平均為: {a:.2f}')\n",
    "\n",
    "main()"
   ]
  },
  {
   "cell_type": "markdown",
   "id": "efaf4729",
   "metadata": {},
   "source": [
    "5.函式參數預設值  \n",
    "<sub>先賦予參數預設值，這樣在呼叫參數時，仍可指定參數值，若未指定參數值，則使用預設值"
   ]
  },
  {
   "cell_type": "code",
   "execution_count": null,
   "id": "6af60757",
   "metadata": {},
   "outputs": [
    {
     "name": "stdout",
     "output_type": "stream",
     "text": [
      "總和為: 5050 平均值為: 50.5\n",
      "總和為: 5005 平均值為: 55.0\n",
      "總和為: 3230 平均值為: 42.5\n"
     ]
    }
   ],
   "source": [
    "def SumandAvg(a = 1, b = 100):\n",
    "    sum = 0\n",
    "    for i in range(a, b + 1):\n",
    "        sum += i\n",
    "    avg = sum / (b - a + 1)\n",
    "    return sum, avg\n",
    "\n",
    "def main():\n",
    "    x , y = SumandAvg()            #呼叫函式不加值\n",
    "    print(f'總和為: {x} 平均值為: {y}')\n",
    "    x , y = SumandAvg(10)          #給一個值 會傳送到函式的第一個參數\n",
    "    print(f'總和為: {x} 平均值為: {y}')\n",
    "    x , y = SumandAvg(5, 80)       #給兩個值 同時更改兩個參數\n",
    "    print(f'總和為: {x} 平均值為: {y}')\n",
    "\n",
    "main()"
   ]
  },
  {
   "cell_type": "code",
   "execution_count": null,
   "id": "3a1a7672",
   "metadata": {},
   "outputs": [],
   "source": [
    "def SumandAvg(a = 1 ,b = 100):\n",
    "    sum = 0\n",
    "    for i in range(a,b+1):\n",
    "        sum += i\n",
    "    avg = sum / (b-a+1)\n",
    "    return sum,avg\n",
    "\n",
    "def main():\n",
    "    x ,y = \"\",\"\"\n",
    "    x = input('請輸入起始值:\\n')\n",
    "    y = input('請輸入結束值:\\n')\n",
    "    if x == \"\" and y == \"\":\n",
    "        sum ,avg = SumandAvg()\n",
    "    elif x == \"\":\n",
    "        print('起始值為空 使用預設值')\n",
    "        sum ,avg = SumandAvg(1 ,int(y))\n",
    "    elif y == \"\":\n",
    "        print('結束值為空 使用預設值')\n",
    "        sum ,avg = SumandAvg(int(x) ,b = 100)\n",
    "    else:\n",
    "        sum ,avg = SumandAvg(a = x ,b = y)\n",
    "    print(f'總和為: {sum} 平均為: {avg}')\n",
    "\n",
    "main()"
   ]
  }
 ],
 "metadata": {
  "kernelspec": {
   "display_name": "Python 3",
   "language": "python",
   "name": "python3"
  },
  "language_info": {
   "codemirror_mode": {
    "name": "ipython",
    "version": 3
   },
   "file_extension": ".py",
   "mimetype": "text/x-python",
   "name": "python",
   "nbconvert_exporter": "python",
   "pygments_lexer": "ipython3",
   "version": "3.13.7"
  }
 },
 "nbformat": 4,
 "nbformat_minor": 5
}
